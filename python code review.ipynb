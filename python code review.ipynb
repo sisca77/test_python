{
 "cells": [
  {
   "cell_type": "markdown",
   "id": "9bd9d488",
   "metadata": {},
   "source": [
    "### String"
   ]
  },
  {
   "cell_type": "code",
   "execution_count": 1,
   "id": "1f6a3634",
   "metadata": {},
   "outputs": [],
   "source": [
    "txt1 = '  A tale that was not right  '\n",
    "txt2 = '이 또한 지나가리라  '\n",
    "\n",
    "# ----------------------\n",
    "\n",
    "# tale을 출력하시오..\n",
    "# '지'를 출력하시오..\n",
    "# 'a'는 몇 개가 존재하는가?\n",
    "# txt1에서 모음의 갯수는 몇 개인가?\n",
    "# '또한'을 '것도'로 수정하시오\n",
    "# txt1을 대문자로 출력하시오..\n",
    "# txt1에서 right은 몇 번째 인덱스에 등장하는가?\n",
    "# txt1을 space를 기준으로 나누어서 리스트에 담으시오..\n",
    "# txt2의 길이는 얼마인가?\n",
    "# txt2를 character 단위로 나누어서 리스트에 담으시오..\n",
    "# txt1의 좌우 공백을 제거하시오..\n",
    "# txt2를 역순으로 출력하시오..\n",
    "# txt1에서 짝수 인덱스만 출력하시오..\n",
    "# txt2를 두 번 반복하시오..\n",
    "# txt1과 txt2를 연결하여 하나의 문자열로 만드시오..\n",
    "# txt1에서 'right'이 존재하는지 확인하시오..\n",
    "# txt1에서 뒤에서 5번째 문자를 출력하시오..\n",
    "# txt1의 문자를 index와 튜플로 묶어서 리스트에 담으시오..\n",
    "\n",
    "url = 'http://www.naver.com/news/today=20221230'\n",
    "# url중 도메인만 출력하시오\n",
    "\n",
    "log = 'name : 홍길동, age:17, sex: 남성, nation : 대한민국 '\n",
    "# 아래와 같이 출력하시오.\n",
    "# name => '홍길동'\n",
    "# age => 17\n",
    "# sex => 남성\n",
    "# ..."
   ]
  },
  {
   "cell_type": "code",
   "execution_count": null,
   "id": "4c956311",
   "metadata": {},
   "outputs": [],
   "source": [
    "txt1 = '  A tale that was not right  '\n",
    "txt2 = '이 또한 지나가리라  '"
   ]
  },
  {
   "cell_type": "code",
   "execution_count": 3,
   "id": "be03ad34",
   "metadata": {},
   "outputs": [
    {
     "data": {
      "text/plain": [
       "'tale'"
      ]
     },
     "execution_count": 3,
     "metadata": {},
     "output_type": "execute_result"
    }
   ],
   "source": [
    "# tale을 출력하시오..\n",
    "txt1[4:8]"
   ]
  },
  {
   "cell_type": "code",
   "execution_count": 4,
   "id": "777708f6",
   "metadata": {},
   "outputs": [
    {
     "data": {
      "text/plain": [
       "'지'"
      ]
     },
     "execution_count": 4,
     "metadata": {},
     "output_type": "execute_result"
    }
   ],
   "source": [
    "# '지'를 출력하시오..\n",
    "txt2[5]"
   ]
  },
  {
   "cell_type": "code",
   "execution_count": 6,
   "id": "70b576cc",
   "metadata": {},
   "outputs": [
    {
     "data": {
      "text/plain": [
       "3"
      ]
     },
     "execution_count": 6,
     "metadata": {},
     "output_type": "execute_result"
    }
   ],
   "source": [
    "# 'a'는 몇 개가 존재하는가?\n",
    "txt1.count('a')"
   ]
  },
  {
   "cell_type": "code",
   "execution_count": 7,
   "id": "0279ce7a",
   "metadata": {},
   "outputs": [
    {
     "data": {
      "text/plain": [
       "7"
      ]
     },
     "execution_count": 7,
     "metadata": {},
     "output_type": "execute_result"
    }
   ],
   "source": [
    "# txt1에서 모음의 갯수는 몇 개인가?\n",
    "suma = 0\n",
    "for c in txt1:\n",
    "    if c in 'aeiouAEIOU':\n",
    "        suma +=1\n",
    "suma"
   ]
  },
  {
   "cell_type": "code",
   "execution_count": 9,
   "id": "a14d35f9",
   "metadata": {},
   "outputs": [
    {
     "data": {
      "text/plain": [
       "'이 것도 지나가리라  '"
      ]
     },
     "execution_count": 9,
     "metadata": {},
     "output_type": "execute_result"
    }
   ],
   "source": [
    "# '또한'을 '것도'로 수정하시오\n",
    "txt2.replace('또한', '것도')"
   ]
  },
  {
   "cell_type": "code",
   "execution_count": 10,
   "id": "ebb94387",
   "metadata": {},
   "outputs": [
    {
     "data": {
      "text/plain": [
       "'  A TALE THAT WAS NOT RIGHT  '"
      ]
     },
     "execution_count": 10,
     "metadata": {},
     "output_type": "execute_result"
    }
   ],
   "source": [
    "# txt1을 대문자로 출력하시오..\n",
    "txt1.upper()"
   ]
  },
  {
   "cell_type": "code",
   "execution_count": 11,
   "id": "b915a974",
   "metadata": {
    "collapsed": true
   },
   "outputs": [
    {
     "data": {
      "text/plain": [
       "22"
      ]
     },
     "execution_count": 11,
     "metadata": {},
     "output_type": "execute_result"
    }
   ],
   "source": [
    "# txt1에서 right은 몇 번째 인덱스에 등장하는가?\n",
    "txt1.find('right')"
   ]
  },
  {
   "cell_type": "code",
   "execution_count": 12,
   "id": "f9e492ee",
   "metadata": {
    "collapsed": true
   },
   "outputs": [
    {
     "data": {
      "text/plain": [
       "22"
      ]
     },
     "execution_count": 12,
     "metadata": {},
     "output_type": "execute_result"
    }
   ],
   "source": [
    "txt1.index('right')"
   ]
  },
  {
   "cell_type": "code",
   "execution_count": 13,
   "id": "b0526992",
   "metadata": {
    "collapsed": true
   },
   "outputs": [
    {
     "data": {
      "text/plain": [
       "-1"
      ]
     },
     "execution_count": 13,
     "metadata": {},
     "output_type": "execute_result"
    }
   ],
   "source": [
    "txt1.find('heaven')"
   ]
  },
  {
   "cell_type": "code",
   "execution_count": 14,
   "id": "dcf6c960",
   "metadata": {
    "collapsed": true
   },
   "outputs": [
    {
     "ename": "ValueError",
     "evalue": "substring not found",
     "output_type": "error",
     "traceback": [
      "\u001b[1;31m---------------------------------------------------------------------------\u001b[0m",
      "\u001b[1;31mValueError\u001b[0m                                Traceback (most recent call last)",
      "\u001b[1;32m~\\AppData\\Local\\Temp/ipykernel_3248/1731300971.py\u001b[0m in \u001b[0;36m<module>\u001b[1;34m\u001b[0m\n\u001b[1;32m----> 1\u001b[1;33m \u001b[0mtxt1\u001b[0m\u001b[1;33m.\u001b[0m\u001b[0mindex\u001b[0m\u001b[1;33m(\u001b[0m\u001b[1;34m'heaven'\u001b[0m\u001b[1;33m)\u001b[0m\u001b[1;33m\u001b[0m\u001b[1;33m\u001b[0m\u001b[0m\n\u001b[0m",
      "\u001b[1;31mValueError\u001b[0m: substring not found"
     ]
    }
   ],
   "source": [
    "txt1.index('heaven')"
   ]
  },
  {
   "cell_type": "code",
   "execution_count": 15,
   "id": "78e34879",
   "metadata": {},
   "outputs": [
    {
     "data": {
      "text/plain": [
       "['A', 'tale', 'that', 'was', 'not', 'right']"
      ]
     },
     "execution_count": 15,
     "metadata": {},
     "output_type": "execute_result"
    }
   ],
   "source": [
    "# txt1을 space를 기준으로 나누어서 리스트에 담으시오..\n",
    "txt1.split()"
   ]
  },
  {
   "cell_type": "code",
   "execution_count": 16,
   "id": "1ae395d0",
   "metadata": {},
   "outputs": [
    {
     "data": {
      "text/plain": [
       "29"
      ]
     },
     "execution_count": 16,
     "metadata": {},
     "output_type": "execute_result"
    }
   ],
   "source": [
    "# txt2의 길이는 얼마인가?\n",
    "len(txt1)"
   ]
  },
  {
   "cell_type": "code",
   "execution_count": 17,
   "id": "dbbbab5c",
   "metadata": {},
   "outputs": [
    {
     "data": {
      "text/plain": [
       "['이', ' ', '또', '한', ' ', '지', '나', '가', '리', '라', ' ', ' ']"
      ]
     },
     "execution_count": 17,
     "metadata": {},
     "output_type": "execute_result"
    }
   ],
   "source": [
    "# txt2를 character 단위로 나누어서 리스트에 담으시오..\n",
    "list(txt2)"
   ]
  },
  {
   "cell_type": "code",
   "execution_count": 20,
   "id": "05c4ac20",
   "metadata": {},
   "outputs": [
    {
     "data": {
      "text/plain": [
       "'A tale that was not right'"
      ]
     },
     "execution_count": 20,
     "metadata": {},
     "output_type": "execute_result"
    }
   ],
   "source": [
    "# txt1의 좌우 공백을 제거하시오..\n",
    "txt1.strip()"
   ]
  },
  {
   "cell_type": "code",
   "execution_count": 21,
   "id": "cc155d34",
   "metadata": {},
   "outputs": [
    {
     "data": {
      "text/plain": [
       "'  라리가나지 한또 이'"
      ]
     },
     "execution_count": 21,
     "metadata": {},
     "output_type": "execute_result"
    }
   ],
   "source": [
    "# txt2를 역순으로 출력하시오..\n",
    "txt2[::-1]"
   ]
  },
  {
   "cell_type": "code",
   "execution_count": 23,
   "id": "55ef03b1",
   "metadata": {},
   "outputs": [
    {
     "data": {
      "text/plain": [
       "'이 또한 지나가리라  '"
      ]
     },
     "execution_count": 23,
     "metadata": {},
     "output_type": "execute_result"
    }
   ],
   "source": [
    "txt2"
   ]
  },
  {
   "cell_type": "code",
   "execution_count": null,
   "id": "e641e4f5",
   "metadata": {},
   "outputs": [],
   "source": [
    "# txt1에서 짝수 인덱스만 출력하시오..\n",
    "txt2[0:30:2]"
   ]
  },
  {
   "cell_type": "code",
   "execution_count": 28,
   "id": "6c2c09b9",
   "metadata": {},
   "outputs": [
    {
     "data": {
      "text/plain": [
       "'이 또한 지나가리라  이 또한 지나가리라  '"
      ]
     },
     "execution_count": 28,
     "metadata": {},
     "output_type": "execute_result"
    }
   ],
   "source": [
    "# txt2를 두 번 반복하시오..\n",
    "txt2*2"
   ]
  },
  {
   "cell_type": "code",
   "execution_count": 29,
   "id": "25d71805",
   "metadata": {},
   "outputs": [
    {
     "data": {
      "text/plain": [
       "'  A tale that was not right  이 또한 지나가리라  '"
      ]
     },
     "execution_count": 29,
     "metadata": {},
     "output_type": "execute_result"
    }
   ],
   "source": [
    "# txt1과 txt2를 연결하여 하나의 문자열로 만드시오..\n",
    "txt1 + txt2"
   ]
  },
  {
   "cell_type": "code",
   "execution_count": 30,
   "id": "254ee26d",
   "metadata": {},
   "outputs": [
    {
     "data": {
      "text/plain": [
       "True"
      ]
     },
     "execution_count": 30,
     "metadata": {},
     "output_type": "execute_result"
    }
   ],
   "source": [
    "# txt1에서 'right'이 존재하는지 확인하시오..\n",
    "'right' in txt1"
   ]
  },
  {
   "cell_type": "code",
   "execution_count": 31,
   "id": "7ec1b336",
   "metadata": {},
   "outputs": [
    {
     "data": {
      "text/plain": [
       "'g'"
      ]
     },
     "execution_count": 31,
     "metadata": {},
     "output_type": "execute_result"
    }
   ],
   "source": [
    "# txt1에서 뒤에서 5번째 문자를 출력하시오..\n",
    "txt1[-5]"
   ]
  },
  {
   "cell_type": "code",
   "execution_count": 32,
   "id": "7ac28b8f",
   "metadata": {
    "collapsed": true
   },
   "outputs": [
    {
     "data": {
      "text/plain": [
       "[(0, ' '),\n",
       " (1, ' '),\n",
       " (2, 'A'),\n",
       " (3, ' '),\n",
       " (4, 't'),\n",
       " (5, 'a'),\n",
       " (6, 'l'),\n",
       " (7, 'e'),\n",
       " (8, ' '),\n",
       " (9, 't'),\n",
       " (10, 'h'),\n",
       " (11, 'a'),\n",
       " (12, 't'),\n",
       " (13, ' '),\n",
       " (14, 'w'),\n",
       " (15, 'a'),\n",
       " (16, 's'),\n",
       " (17, ' '),\n",
       " (18, 'n'),\n",
       " (19, 'o'),\n",
       " (20, 't'),\n",
       " (21, ' '),\n",
       " (22, 'r'),\n",
       " (23, 'i'),\n",
       " (24, 'g'),\n",
       " (25, 'h'),\n",
       " (26, 't'),\n",
       " (27, ' '),\n",
       " (28, ' ')]"
      ]
     },
     "execution_count": 32,
     "metadata": {},
     "output_type": "execute_result"
    }
   ],
   "source": [
    "# txt1의 문자를 index와 튜플로 묶어서 리스트에 담으시오..\n",
    "[(i, c) for i, c in enumerate(txt1)]"
   ]
  },
  {
   "cell_type": "code",
   "execution_count": 35,
   "id": "53ffe86d",
   "metadata": {},
   "outputs": [
    {
     "data": {
      "text/plain": [
       "'www.naver.com'"
      ]
     },
     "execution_count": 35,
     "metadata": {},
     "output_type": "execute_result"
    }
   ],
   "source": [
    "url = 'http://www.naver.com/news/today=20221230'\n",
    "# url중 도메인만 출력하시오\n",
    "url.split('/')[2]"
   ]
  },
  {
   "cell_type": "code",
   "execution_count": 39,
   "id": "7227de10",
   "metadata": {},
   "outputs": [
    {
     "name": "stdout",
     "output_type": "stream",
     "text": [
      "name => 홍길동\n",
      "age => 17\n",
      "sex => 남성\n",
      "nation => 대한민국\n"
     ]
    }
   ],
   "source": [
    "log = 'name : 홍길동, age:17, sex: 남성, nation : 대한민국 '\n",
    "# 아래와 같이 출력하시오.\n",
    "# name => '홍길동'\n",
    "# age => 17\n",
    "# sex => 남성\n",
    "# ...\n",
    "\n",
    "for i in log.split(','):\n",
    "    name = i.split(':')[0].strip()\n",
    "    value = i.split(':')[1].strip()\n",
    "    print(name, '=>', value)"
   ]
  },
  {
   "cell_type": "code",
   "execution_count": 40,
   "id": "8e04fa00",
   "metadata": {},
   "outputs": [
    {
     "data": {
      "text/plain": [
       "'\\n서울·인천=연합뉴스) 고동욱 홍준석 기자 = 더불어민주당 이재명 대선후보는 14일 \\n\"기획재정부가 오늘 소상공인 지원 예산을 위한 추가경정예산안을 편성한다고 \\n발표했는데, 또 조금만 했더라\"고 말했다.\\n\\n이 후보는 이날 오전 매타버스(매주 타는 민생버스) 인천 일정을 시작하기에 앞서 \\n유튜브로 진행한 출발 인사에서 이같이 밝혔다.\\n'"
      ]
     },
     "execution_count": 40,
     "metadata": {},
     "output_type": "execute_result"
    }
   ],
   "source": [
    "text = \"\"\"\n",
    "서울·인천=연합뉴스) 고동욱 홍준석 기자 = 더불어민주당 이재명 대선후보는 14일 \n",
    "\"기획재정부가 오늘 소상공인 지원 예산을 위한 추가경정예산안을 편성한다고 \n",
    "발표했는데, 또 조금만 했더라\"고 말했다.\n",
    "\n",
    "이 후보는 이날 오전 매타버스(매주 타는 민생버스) 인천 일정을 시작하기에 앞서 \n",
    "유튜브로 진행한 출발 인사에서 이같이 밝혔다.\n",
    "\"\"\"\n",
    "\n",
    "text"
   ]
  },
  {
   "cell_type": "code",
   "execution_count": 41,
   "id": "8f0f895a",
   "metadata": {},
   "outputs": [
    {
     "data": {
      "text/plain": [
       "\"기획재정부가 오늘 '소상공인' 지원 예산을 위한 추가경정예산안\""
      ]
     },
     "execution_count": 41,
     "metadata": {},
     "output_type": "execute_result"
    }
   ],
   "source": [
    "text =  \"기획재정부가 오늘 '소상공인' 지원 예산을 위한 추가경정예산안\"\n",
    "text"
   ]
  },
  {
   "cell_type": "code",
   "execution_count": 43,
   "id": "e9fc95ec",
   "metadata": {},
   "outputs": [
    {
     "data": {
      "text/plain": [
       "'기획재정부가 오늘 \"소상공인\" 지원 예산을 위한 추가경정예산안'"
      ]
     },
     "execution_count": 43,
     "metadata": {},
     "output_type": "execute_result"
    }
   ],
   "source": [
    "text =  '기획재정부가 오늘 \"소상공인\" 지원 예산을 위한 추가경정예산안'\n",
    "text"
   ]
  },
  {
   "cell_type": "code",
   "execution_count": 44,
   "id": "34f5b04c",
   "metadata": {},
   "outputs": [
    {
     "data": {
      "text/plain": [
       "'기획재정부가 오늘 \"소상공인\" 지원 예산을 위한 추가경정예산안'"
      ]
     },
     "execution_count": 44,
     "metadata": {},
     "output_type": "execute_result"
    }
   ],
   "source": [
    "text =  '기획재정부가 오늘 \\\n",
    "\"소상공인\" 지원 예산을 \\\n",
    "위한 추가경정예산안'\n",
    "\n",
    "text"
   ]
  },
  {
   "cell_type": "code",
   "execution_count": null,
   "id": "d49fc1dc",
   "metadata": {},
   "outputs": [],
   "source": []
  },
  {
   "cell_type": "markdown",
   "id": "a7becc4d",
   "metadata": {},
   "source": [
    "### datatype\n",
    "\n",
    "1. 기본형\n",
    "- int :95\n",
    "- float : 95.8\n",
    "- bool : True, False\n",
    "    \n",
    "2. 군집형 (여러 요소가 모여서 하나의 데이터 형식)\n",
    "- string : '' , 요소의 수정,삭제,추가 안 됨.., 순서,인덱스 존재\n",
    "- list :  [], 요소의 수정,삭제,추가가 자유로움.. 순서,인덱스 존재\n",
    "- tuple : (), 요소의 수정,삭제,추가 안 됨.., 수정하지 않을 값, 보조용, 순서,인덱스 존재\n",
    "- set : {}, 집합. 요소의 삭제,추가 안 됨. 중복요소가 없다. 집합연산, 순서,인덱스 X\n",
    "- dictionary : {key:value}, 요소의 수정,삭제,추가가 자유로움. 데이터의 저장(json과 유사), 순서 없고, 인덱스는 key가 역할"
   ]
  },
  {
   "cell_type": "code",
   "execution_count": null,
   "id": "5d0f3370",
   "metadata": {},
   "outputs": [],
   "source": []
  },
  {
   "cell_type": "markdown",
   "id": "91f3e93e",
   "metadata": {},
   "source": [
    "### List"
   ]
  },
  {
   "cell_type": "code",
   "execution_count": 45,
   "id": "62ff443f",
   "metadata": {},
   "outputs": [],
   "source": [
    "score = [81, 90, 78, 'python', 'hello', True, [78, 56, 32], (24,25,3)]"
   ]
  },
  {
   "cell_type": "code",
   "execution_count": 47,
   "id": "f0993aa2",
   "metadata": {},
   "outputs": [
    {
     "data": {
      "text/plain": [
       "'t'"
      ]
     },
     "execution_count": 47,
     "metadata": {},
     "output_type": "execute_result"
    }
   ],
   "source": [
    "# 't'를 출력하시오..\n",
    "score[3][2]"
   ]
  },
  {
   "cell_type": "code",
   "execution_count": 49,
   "id": "78a08cb2",
   "metadata": {},
   "outputs": [
    {
     "data": {
      "text/plain": [
       "56"
      ]
     },
     "execution_count": 49,
     "metadata": {},
     "output_type": "execute_result"
    }
   ],
   "source": [
    "# 56을 출력하시오..\n",
    "score[-2][1]"
   ]
  },
  {
   "cell_type": "code",
   "execution_count": 51,
   "id": "2fd5d375",
   "metadata": {},
   "outputs": [
    {
     "data": {
      "text/plain": [
       "25"
      ]
     },
     "execution_count": 51,
     "metadata": {},
     "output_type": "execute_result"
    }
   ],
   "source": [
    "# 마지막 요소의 최대값을 출력하시오\n",
    "max(score[-1])"
   ]
  },
  {
   "cell_type": "code",
   "execution_count": 52,
   "id": "68d29dc0",
   "metadata": {},
   "outputs": [
    {
     "data": {
      "text/plain": [
       "[81, 90, 78, 'world', 'hello', True, [78, 56, 32], (24, 25, 3)]"
      ]
     },
     "execution_count": 52,
     "metadata": {},
     "output_type": "execute_result"
    }
   ],
   "source": [
    "# 'python'을 'world'로 수정하시오.\n",
    "score[3] = 'world'\n",
    "score"
   ]
  },
  {
   "cell_type": "code",
   "execution_count": 53,
   "id": "2bc2ef47",
   "metadata": {},
   "outputs": [],
   "source": [
    "# 마지막에 'sun'을 추가하시오.\n",
    "score.append('sun')"
   ]
  },
  {
   "cell_type": "code",
   "execution_count": 54,
   "id": "600fbb40",
   "metadata": {},
   "outputs": [
    {
     "data": {
      "text/plain": [
       "[81, 90, 78, 'world', 'hello', True, [78, 56, 32], (24, 25, 3), 'sun']"
      ]
     },
     "execution_count": 54,
     "metadata": {},
     "output_type": "execute_result"
    }
   ],
   "source": [
    "score"
   ]
  },
  {
   "cell_type": "code",
   "execution_count": 55,
   "id": "e0a0c662",
   "metadata": {},
   "outputs": [
    {
     "data": {
      "text/plain": [
       "True"
      ]
     },
     "execution_count": 55,
     "metadata": {},
     "output_type": "execute_result"
    }
   ],
   "source": [
    "# 'world'가 있는지 확인하시오..\n",
    "'world' in score"
   ]
  },
  {
   "cell_type": "code",
   "execution_count": 58,
   "id": "3bbb10c0",
   "metadata": {},
   "outputs": [
    {
     "data": {
      "text/plain": [
       "[25, 24, 3]"
      ]
     },
     "execution_count": 58,
     "metadata": {},
     "output_type": "execute_result"
    }
   ],
   "source": [
    "# 마지막에서 2 번쨰 요소를 내림차순으로 정렬하시오..\n",
    "sorted(score[-2], reverse=True)"
   ]
  },
  {
   "cell_type": "code",
   "execution_count": 60,
   "id": "47382430",
   "metadata": {},
   "outputs": [
    {
     "data": {
      "text/plain": [
       "1"
      ]
     },
     "execution_count": 60,
     "metadata": {},
     "output_type": "execute_result"
    }
   ],
   "source": [
    "# 90은 몇 번째 인덱스에 있는지 확인하시오..\n",
    "score.index(90)"
   ]
  },
  {
   "cell_type": "code",
   "execution_count": 70,
   "id": "5c6a66ee",
   "metadata": {},
   "outputs": [
    {
     "data": {
      "text/plain": [
       "[81, 90, 78, 'world', 'hello', True, [78, 56, 32], (24, 25, 3), 'sun']"
      ]
     },
     "execution_count": 70,
     "metadata": {},
     "output_type": "execute_result"
    }
   ],
   "source": [
    "# 리스트를 역순으로 정렬하시오..\n",
    "score.reverse()\n",
    "score"
   ]
  },
  {
   "cell_type": "code",
   "execution_count": 71,
   "id": "88799814",
   "metadata": {},
   "outputs": [
    {
     "data": {
      "text/plain": [
       "['sea', 81, 90, 78, 'world', 'hello', True, [78, 56, 32], (24, 25, 3), 'sun']"
      ]
     },
     "execution_count": 71,
     "metadata": {},
     "output_type": "execute_result"
    }
   ],
   "source": [
    "# 0번째 인덱스에 'sea'를 추가하시오\n",
    "score.insert(0, 'sea')\n",
    "score"
   ]
  },
  {
   "cell_type": "code",
   "execution_count": 74,
   "id": "8543fabc",
   "metadata": {},
   "outputs": [
    {
     "data": {
      "text/plain": [
       "['sea', 81, 90, 78, 'world', 'hello', False, [78, 56, 32], (24, 25, 3), 'sun']"
      ]
     },
     "execution_count": 74,
     "metadata": {},
     "output_type": "execute_result"
    }
   ],
   "source": [
    "# True를 False로 수정하시오..\n",
    "score[score.index(True)] = False\n",
    "score"
   ]
  },
  {
   "cell_type": "code",
   "execution_count": 75,
   "id": "3390459d",
   "metadata": {},
   "outputs": [
    {
     "data": {
      "text/plain": [
       "['sea', 81, 90, 78, 'hello', False, [78, 56, 32], (24, 25, 3), 'sun']"
      ]
     },
     "execution_count": 75,
     "metadata": {},
     "output_type": "execute_result"
    }
   ],
   "source": [
    "# 'world'를 제거하시오\n",
    "score.remove('world')\n",
    "score"
   ]
  },
  {
   "cell_type": "code",
   "execution_count": 76,
   "id": "f0340584",
   "metadata": {},
   "outputs": [
    {
     "data": {
      "text/plain": [
       "['sea', 81, 90, 78, 'hello', False, [78, 56, 32], 'sun']"
      ]
     },
     "execution_count": 76,
     "metadata": {},
     "output_type": "execute_result"
    }
   ],
   "source": [
    "# 7번쨰 요소를 제거하시오..\n",
    "score.pop(7)\n",
    "score"
   ]
  },
  {
   "cell_type": "code",
   "execution_count": 77,
   "id": "9fe8c5e1",
   "metadata": {},
   "outputs": [
    {
     "data": {
      "text/plain": [
       "'sun'"
      ]
     },
     "execution_count": 77,
     "metadata": {},
     "output_type": "execute_result"
    }
   ],
   "source": [
    "# 마지막 요소를 제거하시오..\n",
    "score.pop()"
   ]
  },
  {
   "cell_type": "code",
   "execution_count": 78,
   "id": "260b6517",
   "metadata": {},
   "outputs": [
    {
     "data": {
      "text/plain": [
       "['sea', 81, 90, 78, 'hello', False, [78, 56, 32]]"
      ]
     },
     "execution_count": 78,
     "metadata": {},
     "output_type": "execute_result"
    }
   ],
   "source": [
    "score"
   ]
  },
  {
   "cell_type": "code",
   "execution_count": 79,
   "id": "64f0037e",
   "metadata": {},
   "outputs": [
    {
     "data": {
      "text/plain": [
       "7"
      ]
     },
     "execution_count": 79,
     "metadata": {},
     "output_type": "execute_result"
    }
   ],
   "source": [
    "# 리스트의 길이를 출력하시오\n",
    "len(score)"
   ]
  },
  {
   "cell_type": "code",
   "execution_count": 81,
   "id": "c39b45d2",
   "metadata": {},
   "outputs": [
    {
     "data": {
      "text/plain": [
       "int"
      ]
     },
     "execution_count": 81,
     "metadata": {},
     "output_type": "execute_result"
    }
   ],
   "source": [
    "# 두 번째 요소의 데이터타입을 출력하시오..\n",
    "type(score[1])"
   ]
  },
  {
   "cell_type": "code",
   "execution_count": 96,
   "id": "e6026e1f",
   "metadata": {},
   "outputs": [
    {
     "data": {
      "text/plain": [
       "'78:56:32'"
      ]
     },
     "execution_count": 96,
     "metadata": {},
     "output_type": "execute_result"
    }
   ],
   "source": [
    "\":\".join(['78', '56', '32'])"
   ]
  },
  {
   "cell_type": "code",
   "execution_count": 94,
   "id": "1e88a93c",
   "metadata": {},
   "outputs": [
    {
     "data": {
      "text/plain": [
       "'78:56:32'"
      ]
     },
     "execution_count": 94,
     "metadata": {},
     "output_type": "execute_result"
    }
   ],
   "source": [
    "\":\".join([str(s) for s in [78, 56, 32]])"
   ]
  },
  {
   "cell_type": "code",
   "execution_count": 93,
   "id": "bdb92b01",
   "metadata": {},
   "outputs": [
    {
     "data": {
      "text/plain": [
       "['sea', 81, 90, 78, 'hello', False, '78:56:32']"
      ]
     },
     "execution_count": 93,
     "metadata": {},
     "output_type": "execute_result"
    }
   ],
   "source": [
    "# [78, 56, 32]를 \"78:56:32\"로 수정하시오..\n",
    "score[score.index([78, 56, 32])] = \":\".join([str(s) for s in [78, 56, 32]])\n",
    "score"
   ]
  },
  {
   "cell_type": "code",
   "execution_count": 98,
   "id": "1e6fe6e2",
   "metadata": {},
   "outputs": [
    {
     "data": {
      "text/plain": [
       "[]"
      ]
     },
     "execution_count": 98,
     "metadata": {},
     "output_type": "execute_result"
    }
   ],
   "source": [
    "# 모든 원소를 제거하시오\n",
    "score.clear()\n",
    "score"
   ]
  },
  {
   "cell_type": "code",
   "execution_count": null,
   "id": "85c3b330",
   "metadata": {},
   "outputs": [],
   "source": [
    "# 리스트를 삭제하시오.."
   ]
  },
  {
   "cell_type": "code",
   "execution_count": 99,
   "id": "4f9a4334",
   "metadata": {},
   "outputs": [],
   "source": [
    "del score"
   ]
  },
  {
   "cell_type": "code",
   "execution_count": 100,
   "id": "86e5bb9e",
   "metadata": {
    "collapsed": true
   },
   "outputs": [
    {
     "ename": "NameError",
     "evalue": "name 'score' is not defined",
     "output_type": "error",
     "traceback": [
      "\u001b[1;31m---------------------------------------------------------------------------\u001b[0m",
      "\u001b[1;31mNameError\u001b[0m                                 Traceback (most recent call last)",
      "\u001b[1;32m~\\AppData\\Local\\Temp/ipykernel_3248/2992420520.py\u001b[0m in \u001b[0;36m<module>\u001b[1;34m\u001b[0m\n\u001b[1;32m----> 1\u001b[1;33m \u001b[0mscore\u001b[0m\u001b[1;33m\u001b[0m\u001b[1;33m\u001b[0m\u001b[0m\n\u001b[0m",
      "\u001b[1;31mNameError\u001b[0m: name 'score' is not defined"
     ]
    }
   ],
   "source": [
    "score"
   ]
  },
  {
   "cell_type": "code",
   "execution_count": null,
   "id": "184f2bfd",
   "metadata": {},
   "outputs": [],
   "source": []
  },
  {
   "cell_type": "markdown",
   "id": "7e046f6c",
   "metadata": {},
   "source": [
    "### Tuple"
   ]
  },
  {
   "cell_type": "code",
   "execution_count": 1,
   "id": "f8b06eae",
   "metadata": {},
   "outputs": [],
   "source": [
    "# Set - 중복데이터가 없다. 순서가 없으므로 인덱스가 없다.., 집합연산..\n",
    "\n",
    "# 원소가 없는 set인 s를 만드세요\n",
    "# s에 원소 'sky'와 'earth'를 추가하세요\n",
    "# s에 1,2 두 원소를 추가하세요\n",
    "# s에서 'sky'를 삭제하세요\n",
    "\n",
    "A = {1,2,3,4,5,6}\n",
    "B = {1,2,3,7,8,9}\n",
    "C = {1,2,3}\n",
    "# 두 집합의 합집합을 출력\n",
    "# 두 집합의 교집합을 출력\n",
    "# A의 B에 대한 차집합\n",
    "# 대칭차집합\n",
    "# C가 A의 부분집합인지 확인\n",
    "# A가 C를 포함하는지 확인\n",
    "\n",
    "# 집합 B의 길이를 출력\n",
    "# 집합 B의 최대값 출력\n",
    "# 집합 B의 최소값 출력\n",
    "# 집합 B의 합을 출력\n",
    "# 집합 B의 평균출력\n",
    "# 집합 B의 내림차순 출력\n",
    "# 집합 B에 5가 포함되어 있는지 확인"
   ]
  },
  {
   "cell_type": "code",
   "execution_count": 2,
   "id": "36da431b",
   "metadata": {},
   "outputs": [
    {
     "data": {
      "text/plain": [
       "{1, 2, 'earth'}"
      ]
     },
     "execution_count": 2,
     "metadata": {},
     "output_type": "execute_result"
    }
   ],
   "source": [
    "# 원소가 없는 set인 s를 만드세요\n",
    "s = set()\n",
    "# s에 원소 'sky'와 'earth'를 추가하세요\n",
    "s.add('sky')\n",
    "s.add('earth')\n",
    "\n",
    "# s에 1,2 두 원소를 추가하세요\n",
    "s.update({1,2})\n",
    "# s에서 'sky'를 삭제하세요\n",
    "s.remove('sky')\n",
    "s"
   ]
  },
  {
   "cell_type": "code",
   "execution_count": 4,
   "id": "62e8f49f",
   "metadata": {},
   "outputs": [
    {
     "data": {
      "text/plain": [
       "{1, 2, 3}"
      ]
     },
     "execution_count": 4,
     "metadata": {},
     "output_type": "execute_result"
    }
   ],
   "source": [
    "A = {1,2,3,4,5,6}\n",
    "B = {1,2,3,7,8,9}\n",
    "C = {1,2,3}\n",
    "\n",
    "# 두 집합의 합집합을 출력\n",
    "A.union(B)\n",
    "# 두 집합의 교집합을 출력\n",
    "A.intersection(B)\n",
    "# A의 B에 대한 차집합\n",
    "A.difference(B)\n",
    "# 대칭차집합\n",
    "A.symmetric_difference(B)\n",
    "# C가 A의 부분집합인지 확인\n",
    "A.issubset(B)\n",
    "# A가 C를 포함하는지 확인\n",
    "A.issuperset(B)\n",
    "\n",
    "# 집합 B의 길이를 출력\n",
    "len(B)\n",
    "# 집합 B의 최대값 출력\n",
    "max(B)\n",
    "# 집합 B의 최소값 출력\n",
    "min(B)\n",
    "# 집합 B의 합을 출력\n",
    "sum(B)\n",
    "# 집합 B의 평균출력\n",
    "import numpy as np\n",
    "np.mean(B)\n",
    "# 집합 B의 내림차순 출력\n",
    "sorted(B, reverse=True)\n",
    "# 집합 B에 5가 포함되어 있는지 확인\n",
    "5 in B"
   ]
  },
  {
   "cell_type": "code",
   "execution_count": null,
   "id": "12774591",
   "metadata": {},
   "outputs": [],
   "source": []
  },
  {
   "cell_type": "code",
   "execution_count": null,
   "id": "2126a23d",
   "metadata": {},
   "outputs": [],
   "source": [
    "# Dictionary\n",
    "\n",
    "# 'mydict'라는 딕셔너리를 만드세요.\n",
    "# 'red':4, 'blue':3, 'green':1 세 요소를 추가하세요.\n",
    "# key에 'blue'가 있는지 확인하세요.\n",
    "# mydict의 길이를 출력하세요.\n",
    "# 'red'의 값을 출력하세요.\n",
    "# 'red'의 값을 10으로 수정하세요.\n",
    "# key값만 출력하세요\n",
    "# value값만 출력하세요\n",
    "# key와 value를 튜플로 출력하세요.\n",
    "# (key기준으로 정렬하세요.)\n",
    "# (value기준으로 정렬하세요)\n",
    "# key 'blue'요소를 삭제하세요\n",
    "# key 'pink'요소 값을 출력하되 오류가 없도록 하세요\n",
    "# key 'pink' 값을 출력하되 없으면, value 20으로 새로이 추가하세요\n",
    "# value에 20이 있는지 확인하세요.\n",
    "# key는 'yellow'에 value는 30을 추가하세요.\n",
    "# yourdict = {'파랑':50, '빨강':70}을 합하세요.."
   ]
  },
  {
   "cell_type": "code",
   "execution_count": 11,
   "id": "e321218f",
   "metadata": {},
   "outputs": [
    {
     "data": {
      "text/plain": [
       "{'red': 10, 'green': 1, 'pink': 20, 'yellow': 30, '파랑': 50, '빨강': 70}"
      ]
     },
     "execution_count": 11,
     "metadata": {},
     "output_type": "execute_result"
    }
   ],
   "source": [
    "# 'mydict'라는 딕셔너리를 만드세요.\n",
    "d = {}\n",
    "d = dict()\n",
    "# 'red':4, 'blue':3, 'green':1 세 요소를 추가하세요.\n",
    "d['red'] = 4\n",
    "d['blue'] = 3\n",
    "d['green'] = 1\n",
    "# key에 'blue'가 있는지 확인하세요.\n",
    "'blue' in d\n",
    "# mydict의 길이를 출력하세요.\n",
    "len(d)\n",
    "# 'red'의 값을 출력하세요.\n",
    "d['red']\n",
    "# 'red'의 값을 10으로 수정하세요.\n",
    "d['red'] = 10\n",
    "# key값만 출력하세요\n",
    "d.keys()\n",
    "# value값만 출력하세요\n",
    "d.values()\n",
    "# key와 value를 튜플로 출력하세요.\n",
    "d.items()\n",
    "# (key기준으로 정렬하세요.)\n",
    "sorted(d.items(), key = lambda x: x[0])\n",
    "sorted(d)\n",
    "# (value기준으로 정렬하세요)\n",
    "sorted(d.items(), key = lambda x: x[1])\n",
    "# key 'blue'요소를 삭제하세요\n",
    "# del d['blue']\n",
    "d.pop('blue')\n",
    "d\n",
    "# key 'pink'요소 값을 출력하되 오류가 없도록 하세요\n",
    "d.get('pink')\n",
    "# key 'pink' 값을 출력하되 없으면, value 20으로 새로이 추가하세요\n",
    "d.setdefault('pink', 20)\n",
    "# value에 20이 있는지 확인하세요.\n",
    "20 in d.values()\n",
    "# key는 'yellow'에 value는 30을 추가하세요.\n",
    "d['yellow'] = 30\n",
    "# yourdict = {'파랑':50, '빨강':70}을 합하세요..\n",
    "d.update({'파랑':50, '빨강':70})\n",
    "d"
   ]
  },
  {
   "cell_type": "code",
   "execution_count": null,
   "id": "ac1e0793",
   "metadata": {},
   "outputs": [],
   "source": []
  },
  {
   "cell_type": "markdown",
   "id": "3aba8831",
   "metadata": {},
   "source": [
    "### If"
   ]
  },
  {
   "cell_type": "code",
   "execution_count": null,
   "id": "0132bef5",
   "metadata": {},
   "outputs": [],
   "source": [
    "# 조건식 => True/ False\n",
    "\n",
    "# if 조건식:\n",
    "#     실행코드\n",
    "# elif 조건식:\n",
    "#     실행코드\n",
    "# elif 조건식:\n",
    "#     실행코드\n",
    "# else:\n",
    "#     실행코드"
   ]
  },
  {
   "cell_type": "code",
   "execution_count": 12,
   "id": "c748b834",
   "metadata": {},
   "outputs": [
    {
     "name": "stdout",
     "output_type": "stream",
     "text": [
      "점수를 입력하세요95\n",
      "A학점입니다\n"
     ]
    }
   ],
   "source": [
    "# 점수를 입력받은 후 학점을 출력하시오..\n",
    "\n",
    "score =  int(input('점수를 입력하세요'))\n",
    "if score >= 90:\n",
    "    print('A학점입니다')\n",
    "elif 90 > score >= 80:\n",
    "    print('B학점입니다')\n",
    "elif 80 > score >= 70:\n",
    "    print('C학점입니다')\n",
    "else:\n",
    "    print('D학점입니다..')"
   ]
  },
  {
   "cell_type": "code",
   "execution_count": 14,
   "id": "84e14b9e",
   "metadata": {},
   "outputs": [
    {
     "name": "stdout",
     "output_type": "stream",
     "text": [
      "비밀번호를 입력하세요2345\n",
      "비밀번호가 틀립니다..\n"
     ]
    }
   ],
   "source": [
    "# 비밀번호 = 1234 인 경우 비밀번호를 입력받은 후 맞으면 '환영합니다'. 틀리면 \n",
    "# '비밀번호가 틀립니다'를 출력하시오\n",
    "passwd = int(input('비밀번호를 입력하세요'))\n",
    "\n",
    "if passwd == 1234:\n",
    "    print('환영합니다')\n",
    "else:\n",
    "    print('비밀번호가 틀립니다..')"
   ]
  },
  {
   "cell_type": "code",
   "execution_count": null,
   "id": "fb0867e0",
   "metadata": {},
   "outputs": [],
   "source": []
  },
  {
   "cell_type": "code",
   "execution_count": 16,
   "id": "2aee0ab3",
   "metadata": {},
   "outputs": [
    {
     "name": "stdout",
     "output_type": "stream",
     "text": [
      "임의의 정수를 입력하세요3\n",
      "홀수입니다\n"
     ]
    }
   ],
   "source": [
    "# 임의의 정수를 입력받은 후 짝수면 '짝수입니다' 홀수면 '홀수입니다'를 출력..\n",
    "\n",
    "num = int(input('임의의 정수를 입력하세요'))\n",
    "\n",
    "if num%2 ==0:\n",
    "    print('짝수입니다')\n",
    "else:\n",
    "    print('홀수입니다')"
   ]
  },
  {
   "cell_type": "code",
   "execution_count": 3,
   "id": "9776be92",
   "metadata": {},
   "outputs": [
    {
     "name": "stdout",
     "output_type": "stream",
     "text": [
      "임의의 정수를 입력하세요10\n"
     ]
    },
    {
     "data": {
      "text/plain": [
       "30"
      ]
     },
     "execution_count": 3,
     "metadata": {},
     "output_type": "execute_result"
    }
   ],
   "source": [
    "nums = int(input('임의의 정수를 입력하세요'))\n",
    "\n",
    "suma = 0\n",
    "\n",
    "for num in range(1, int(nums) + 1):\n",
    "    if num%2 ==0:\n",
    "        suma += num\n",
    "        \n",
    "suma"
   ]
  },
  {
   "cell_type": "code",
   "execution_count": 17,
   "id": "454a5d1d",
   "metadata": {},
   "outputs": [],
   "source": [
    "# 주민번호 '851205-2000000'\n",
    "# 주민번호를 입력받은 후 \"당신의 나이는 __이고, 성별은 __입니다\"를 출력하시오.."
   ]
  },
  {
   "cell_type": "code",
   "execution_count": 27,
   "id": "d6295426",
   "metadata": {},
   "outputs": [
    {
     "name": "stdout",
     "output_type": "stream",
     "text": [
      "주민번호를 입력하세요775841-2354789\n",
      "당신의 나이는 45세이고, 당신의 성별은 여성입니다\n"
     ]
    }
   ],
   "source": [
    "res_num = input('주민번호를 입력하세요')\n",
    "\n",
    "birth_year = int(res_num[:2])\n",
    "gender = res_num.split('-')[1][0]\n",
    "\n",
    "# print(birth_year, gender)\n",
    "age = 2022-(birth_year + 1900)\n",
    "\n",
    "def to_sex(gender):\n",
    "    if gender == '1':\n",
    "        return '남성'\n",
    "    elif gender == '2':\n",
    "        return '여성'\n",
    "    \n",
    "sex = to_sex(gender)\n",
    "\n",
    "print(\"당신의 나이는 {}세이고, 당신의 성별은 {}입니다\".format(age, sex))"
   ]
  },
  {
   "cell_type": "code",
   "execution_count": 30,
   "id": "43fa0235",
   "metadata": {},
   "outputs": [
    {
     "name": "stdout",
     "output_type": "stream",
     "text": [
      "이름을 입력하시오Kim\n"
     ]
    }
   ],
   "source": [
    "scores = {'Mary':85, 'Sam':95, 'Bob':87, 'Han':77}\n",
    "\n",
    "# 이름을 입력받은 후 이름이 있으면 80점 이상이면 '합격입니다', \n",
    "# 이하이면 '불합격입니다'를 출력하시오, 이름이 없으면 값을 0으로 하여 추가하시오\n",
    "\n",
    "nam = input('이름을 입력하시오')\n",
    "\n",
    "if nam in scores.keys():\n",
    "    score = scores[nam]\n",
    "    if score >= 80:\n",
    "        print('합격입니다')\n",
    "    else:\n",
    "        print('불합격입니다')\n",
    "else:\n",
    "    scores[nam] = 0\n",
    "    print(scores)"
   ]
  },
  {
   "cell_type": "code",
   "execution_count": 5,
   "id": "1bcd64c1",
   "metadata": {},
   "outputs": [
    {
     "name": "stdout",
     "output_type": "stream",
     "text": [
      "이름을 입력하세요Kim\n"
     ]
    }
   ],
   "source": [
    "scores = {'Mary':85, 'Sam':95, 'Bob':87, 'Han':77}\n",
    "\n",
    "nam = input('이름을 입력하세요')\n",
    "if nam in scores:\n",
    "    print(scores[nam])\n",
    "else:\n",
    "    scores[nam] = 2000"
   ]
  },
  {
   "cell_type": "code",
   "execution_count": 6,
   "id": "b1ebfc8d",
   "metadata": {},
   "outputs": [
    {
     "data": {
      "text/plain": [
       "{'Mary': 85, 'Sam': 95, 'Bob': 87, 'Han': 77, 'Kim': 2000}"
      ]
     },
     "execution_count": 6,
     "metadata": {},
     "output_type": "execute_result"
    }
   ],
   "source": [
    "scores"
   ]
  },
  {
   "cell_type": "code",
   "execution_count": null,
   "id": "4a43dad1",
   "metadata": {},
   "outputs": [],
   "source": []
  },
  {
   "cell_type": "code",
   "execution_count": 34,
   "id": "c1e569b3",
   "metadata": {},
   "outputs": [
    {
     "name": "stdout",
     "output_type": "stream",
     "text": [
      "mine <= 가위, 바위, 보 중에서 하나를 선택하세요주먹\n",
      "yours <= 가위, 바위, 보 중에서 하나를 선택하세요가위\n",
      "내가 이겼습니다\n"
     ]
    }
   ],
   "source": [
    "# 가위, 바위, 보 게임\n",
    "\n",
    "mine = input('mine <= 가위, 바위, 보 중에서 하나를 선택하세요')\n",
    "yours = input('yours <= 가위, 바위, 보 중에서 하나를 선택하세요')\n",
    "\n",
    "if mine == yours:\n",
    "    print('비겼습니다')\n",
    "    \n",
    "elif mine=='가위':\n",
    "    if yours == '보':\n",
    "        print('내가 이겼습니다')\n",
    "    else:\n",
    "        print('당신이 이겼습니다..')\n",
    "        \n",
    "elif mine=='보':\n",
    "    if yours == '주먹':\n",
    "        print('내가 이겼습니다')\n",
    "    else:\n",
    "        print('당신이 이겼습니다..')       \n",
    "        \n",
    "else:\n",
    "    if yours == '가위':\n",
    "        print('내가 이겼습니다')\n",
    "    else:\n",
    "        print('당신이 이겼습니다..')  \n",
    "\n",
    "\n",
    "# 비겼습니다..\n",
    "# 내가 이겼습니다..\n",
    "# 당신이 이겼습니다.."
   ]
  },
  {
   "cell_type": "code",
   "execution_count": null,
   "id": "a084238e",
   "metadata": {},
   "outputs": [],
   "source": []
  },
  {
   "cell_type": "code",
   "execution_count": 35,
   "id": "45aff73e",
   "metadata": {},
   "outputs": [],
   "source": [
    "# 나이를 입력받은 후, 50대 이상이면 '중년이시군요', 20~40대이면 '젊으시군요', \n",
    "# 20세 미만이면 '어리시군요'를 출력.."
   ]
  },
  {
   "cell_type": "code",
   "execution_count": 38,
   "id": "40fd682d",
   "metadata": {},
   "outputs": [
    {
     "name": "stdout",
     "output_type": "stream",
     "text": [
      "나이를 입력하세요..35\n",
      "젊으시군요\n"
     ]
    }
   ],
   "source": [
    "age = int(input('나이를 입력하세요..'))\n",
    "\n",
    "if age >= 50:\n",
    "    print('중년이시군요')\n",
    "elif 50 > age >= 20:\n",
    "    print('젊으시군요')\n",
    "else:\n",
    "    print('어리시군요..')"
   ]
  },
  {
   "cell_type": "code",
   "execution_count": null,
   "id": "413ed8a5",
   "metadata": {},
   "outputs": [],
   "source": []
  },
  {
   "cell_type": "markdown",
   "id": "2c1cd60e",
   "metadata": {},
   "source": [
    "### 반복문"
   ]
  },
  {
   "cell_type": "code",
   "execution_count": null,
   "id": "f60991a4",
   "metadata": {},
   "outputs": [],
   "source": [
    "# for 임시변수 in 군집형데이터:\n",
    "#     실행코드\n",
    "#     실행코드\n",
    "#     ..."
   ]
  },
  {
   "cell_type": "code",
   "execution_count": null,
   "id": "85af0f56",
   "metadata": {},
   "outputs": [],
   "source": [
    "# while 조건식:\n",
    "#     실행코드\n",
    "#     실행코드\n",
    "#     ..."
   ]
  },
  {
   "cell_type": "code",
   "execution_count": 39,
   "id": "8fb676b8",
   "metadata": {},
   "outputs": [
    {
     "data": {
      "text/plain": [
       "8"
      ]
     },
     "execution_count": 39,
     "metadata": {},
     "output_type": "execute_result"
    }
   ],
   "source": [
    "# 모음의 숫자를 계산하시오.. 단, 모듬은 'aeiouAEIOU'\n",
    "\n",
    "text = 'computational thinking'\n",
    "vowel = 'aeiouAEIOU'\n",
    "\n",
    "suma = 0\n",
    "\n",
    "for c in text:\n",
    "    if c in vowel:\n",
    "        suma += 1\n",
    "suma"
   ]
  },
  {
   "cell_type": "code",
   "execution_count": 7,
   "id": "42067175",
   "metadata": {},
   "outputs": [
    {
     "name": "stdout",
     "output_type": "stream",
     "text": [
      "O\n",
      "U\n",
      "A\n",
      "I\n",
      "O\n",
      "A\n",
      "I\n",
      "I\n"
     ]
    }
   ],
   "source": [
    "text = 'computational thinking'\n",
    "vowel = 'aeiouAEIOU'\n",
    "\n",
    "suma = 0\n",
    "\n",
    "for c in text:\n",
    "    if c in vowel:\n",
    "        print(c.upper())\n"
   ]
  },
  {
   "cell_type": "code",
   "execution_count": 14,
   "id": "59e30bf3",
   "metadata": {
    "collapsed": true
   },
   "outputs": [
    {
     "name": "stdout",
     "output_type": "stream",
     "text": [
      "(0, 'c')\n",
      "(1, 'o')\n",
      "(2, 'm')\n",
      "(3, 'p')\n",
      "(4, 'u')\n",
      "(5, 't')\n",
      "(6, 'a')\n",
      "(7, 't')\n",
      "(8, 'i')\n",
      "(9, 'o')\n",
      "(10, 'n')\n",
      "(11, 'a')\n",
      "(12, 'l')\n",
      "(13, ' ')\n",
      "(14, 't')\n",
      "(15, 'h')\n",
      "(16, 'i')\n",
      "(17, 'n')\n",
      "(18, 'k')\n",
      "(19, 'i')\n",
      "(20, 'n')\n",
      "(21, 'g')\n"
     ]
    }
   ],
   "source": [
    "for i, j in enumerate(text):\n",
    "    print((i, j))"
   ]
  },
  {
   "cell_type": "code",
   "execution_count": 9,
   "id": "7e49b547",
   "metadata": {
    "collapsed": true
   },
   "outputs": [
    {
     "data": {
      "text/plain": [
       "[2, 4, 6, 8, 10, 12, 14, 16, 18, 20]"
      ]
     },
     "execution_count": 9,
     "metadata": {},
     "output_type": "execute_result"
    }
   ],
   "source": [
    "L = []\n",
    "for i in range(1, 21):\n",
    "    if i%2==0:\n",
    "        L.append(i)\n",
    "L"
   ]
  },
  {
   "cell_type": "code",
   "execution_count": 10,
   "id": "ac35c82a",
   "metadata": {
    "collapsed": true
   },
   "outputs": [
    {
     "data": {
      "text/plain": [
       "[2, 4, 6, 8, 10, 12, 14, 16, 18, 20]"
      ]
     },
     "execution_count": 10,
     "metadata": {},
     "output_type": "execute_result"
    }
   ],
   "source": [
    "count = 0 \n",
    "\n",
    "L = []\n",
    "while count < 20:\n",
    "    count += 1\n",
    "    if count%2 == 0:\n",
    "        L.append(count)\n",
    "L"
   ]
  },
  {
   "cell_type": "code",
   "execution_count": 11,
   "id": "95e83fff",
   "metadata": {
    "collapsed": true
   },
   "outputs": [
    {
     "data": {
      "text/plain": [
       "[2, 4, 6, 8, 10, 12, 14, 16, 18, 20]"
      ]
     },
     "execution_count": 11,
     "metadata": {},
     "output_type": "execute_result"
    }
   ],
   "source": [
    "[c for c in range(1, 21) if c%2==0]"
   ]
  },
  {
   "cell_type": "code",
   "execution_count": null,
   "id": "9f7371e1",
   "metadata": {},
   "outputs": [],
   "source": []
  },
  {
   "cell_type": "code",
   "execution_count": 39,
   "id": "8f80b9ad",
   "metadata": {},
   "outputs": [
    {
     "data": {
      "text/plain": [
       "8"
      ]
     },
     "execution_count": 39,
     "metadata": {},
     "output_type": "execute_result"
    }
   ],
   "source": [
    "# 모음의 숫자를 계산하시오.. 단, 모듬은 'aeiouAEIOU'\n",
    "\n",
    "text = 'computational thinking'\n",
    "vowel = 'aeiouAEIOU'\n",
    "\n",
    "suma = 0\n",
    "\n",
    "for c in text:\n",
    "    if c in vowel:\n",
    "        suma += 1\n",
    "suma"
   ]
  },
  {
   "cell_type": "code",
   "execution_count": 42,
   "id": "42081e90",
   "metadata": {},
   "outputs": [
    {
     "name": "stdout",
     "output_type": "stream",
     "text": [
      "mountain 8\n",
      "river 5\n",
      "cloud 5\n",
      "tree 4\n",
      "lake 4\n"
     ]
    },
    {
     "data": {
      "text/plain": [
       "26"
      ]
     },
     "execution_count": 42,
     "metadata": {},
     "output_type": "execute_result"
    }
   ],
   "source": [
    "# word의 길이가 4 이상인 단어의  단어길이 총합을 구하시오\n",
    "words = ['mountain', 'sea', 'sky', 'river', 'cloud', 'tree', 'lake']\n",
    "\n",
    "suma = 0\n",
    "for w in words:\n",
    "    if len(w) >= 4:\n",
    "        print(w, len(w))\n",
    "        suma += len(w)\n",
    "suma"
   ]
  },
  {
   "cell_type": "code",
   "execution_count": 45,
   "id": "d08c8702",
   "metadata": {
    "collapsed": true
   },
   "outputs": [
    {
     "data": {
      "text/plain": [
       "[('a', '가'),\n",
       " ('a', '나'),\n",
       " ('a', '다'),\n",
       " ('a', '라'),\n",
       " ('b', '가'),\n",
       " ('b', '나'),\n",
       " ('b', '다'),\n",
       " ('b', '라'),\n",
       " ('c', '가'),\n",
       " ('c', '나'),\n",
       " ('c', '다'),\n",
       " ('c', '라'),\n",
       " ('d', '가'),\n",
       " ('d', '나'),\n",
       " ('d', '다'),\n",
       " ('d', '라')]"
      ]
     },
     "execution_count": 45,
     "metadata": {},
     "output_type": "execute_result"
    }
   ],
   "source": [
    "# 두 리스트 원소간의 모든 조합을 리스트에 담으시오\n",
    "# => [('a', '가'), ('a', '나'), ... ('d', '다'), ('d', '라')]\n",
    "\n",
    "L1 = ['a','b','c','d']\n",
    "L2 = ['가','나','다','라']\n",
    "\n",
    "L = []\n",
    "\n",
    "for i in L1:\n",
    "    for j in L2:\n",
    "        L.append((i, j))\n",
    "        \n",
    "L"
   ]
  },
  {
   "cell_type": "code",
   "execution_count": 46,
   "id": "a8cbbb35",
   "metadata": {},
   "outputs": [
    {
     "name": "stdout",
     "output_type": "stream",
     "text": [
      "110 100\n"
     ]
    }
   ],
   "source": [
    "# for문과 while문을 이용해서 1부터 20까지의 정수에서 짝수의 합과 홀수의 합을 구하시오..\n",
    "\n",
    "even_sum  = 0\n",
    "odd_sum = 0\n",
    "\n",
    "for i in range(1,21):\n",
    "    if i%2 == 0:\n",
    "        even_sum += i\n",
    "    else:\n",
    "        odd_sum += i\n",
    "        \n",
    "print(even_sum, odd_sum)"
   ]
  },
  {
   "cell_type": "code",
   "execution_count": 49,
   "id": "25f719f3",
   "metadata": {},
   "outputs": [
    {
     "name": "stdout",
     "output_type": "stream",
     "text": [
      "110 100\n"
     ]
    }
   ],
   "source": [
    "even_sum  = 0\n",
    "odd_sum = 0\n",
    "count = 0\n",
    "\n",
    "while count < 21:\n",
    "    \n",
    "    if count%2 == 0:\n",
    "        even_sum += count\n",
    "    else:\n",
    "        odd_sum += count\n",
    "        \n",
    "    count += 1\n",
    "        \n",
    "print(even_sum, odd_sum)"
   ]
  },
  {
   "cell_type": "code",
   "execution_count": 13,
   "id": "303ec8f7",
   "metadata": {
    "collapsed": true
   },
   "outputs": [
    {
     "name": "stdout",
     "output_type": "stream",
     "text": [
      "o\n",
      "p\n",
      "t\n",
      "t\n",
      "o\n",
      "a\n",
      " \n",
      "h\n",
      "n\n",
      "i\n",
      "g\n"
     ]
    }
   ],
   "source": [
    "# 홀수번 인덱스만 출력..\n",
    "\n",
    "text = 'computational thinking'\n",
    "\n",
    "for i in range(1, len(text), 2):\n",
    "    print(text[i])"
   ]
  },
  {
   "cell_type": "code",
   "execution_count": 12,
   "id": "ccec70cd",
   "metadata": {},
   "outputs": [
    {
     "name": "stdout",
     "output_type": "stream",
     "text": [
      "4\n",
      "5\n",
      "6\n"
     ]
    }
   ],
   "source": [
    "#  break와 continue를 이용해서 1부터 10까지 정수 중에서 4,5,6,7만을 출력하시오..\n",
    "\n",
    "suma = 0\n",
    "count = 0\n",
    "\n",
    "while count < 10:\n",
    "    count +=1\n",
    "    \n",
    "    if count < 4:\n",
    "        continue    # 반복문에서 continue는 아래 부분을 실행하지 않고 반복문 처음으로 이동\n",
    "    if count > 6:\n",
    "        break  # 반복문에서 break는 반복을 중단하고 반복문을 빠져나온다..\n",
    "        \n",
    "    print(count)   "
   ]
  },
  {
   "cell_type": "code",
   "execution_count": 53,
   "id": "446f5a7c",
   "metadata": {},
   "outputs": [
    {
     "name": "stdout",
     "output_type": "stream",
     "text": [
      "점수를 입력하세요5\n",
      "점수를 입력하세요5\n",
      "점수를 입력하세요5\n",
      "점수를 입력하세요5\n",
      "점수를 입력하세요5\n",
      "5.0\n"
     ]
    }
   ],
   "source": [
    "# 점수를 5번 입력받은 후 평균점수를 출력하시오..\n",
    "\n",
    "count = 0\n",
    "suma = 0\n",
    "\n",
    "while count < 5:\n",
    "    \n",
    "    score = int(input('점수를 입력하세요'))\n",
    "    suma += score\n",
    "    \n",
    "    count += 1\n",
    "    \n",
    "print(suma/5)"
   ]
  },
  {
   "cell_type": "code",
   "execution_count": 54,
   "id": "51c0ac65",
   "metadata": {},
   "outputs": [
    {
     "name": "stdout",
     "output_type": "stream",
     "text": [
      "임의의 정수를 입력하시오..5\n"
     ]
    },
    {
     "data": {
      "text/plain": [
       "120"
      ]
     },
     "execution_count": 54,
     "metadata": {},
     "output_type": "execute_result"
    }
   ],
   "source": [
    "# 임의의 수를 입력받은 후 팩토리얼을 계산하는 코드를 작성하시오..\n",
    "# 5! = 5*4*3*2*1\n",
    "\n",
    "num = int(input('임의의 정수를 입력하시오..'))\n",
    "\n",
    "result = 1\n",
    "\n",
    "while num > 1:\n",
    "    result *= num\n",
    "    num -= 1\n",
    "    \n",
    "result"
   ]
  },
  {
   "cell_type": "code",
   "execution_count": null,
   "id": "83117ce8",
   "metadata": {},
   "outputs": [],
   "source": []
  },
  {
   "cell_type": "code",
   "execution_count": 57,
   "id": "9edc3e86",
   "metadata": {},
   "outputs": [
    {
     "name": "stdout",
     "output_type": "stream",
     "text": [
      "최대값 170, 최소값 30\n"
     ]
    }
   ],
   "source": [
    "L = [70, 100, 80, 120, 130, 170, 30]\n",
    "\n",
    "# 반복문을 이용해서 최대값과 최소값을 구하시오..\n",
    "\n",
    "max_n = L[0]\n",
    "min_n = L[0]\n",
    "\n",
    "for n in L:\n",
    "    if max_n < n:\n",
    "        max_n = n\n",
    "    if min_n > n:\n",
    "        min_n = n\n",
    "        \n",
    "print(\"최대값 {}, 최소값 {}\".format(max_n, min_n))"
   ]
  },
  {
   "cell_type": "code",
   "execution_count": null,
   "id": "27eb5750",
   "metadata": {},
   "outputs": [],
   "source": []
  },
  {
   "cell_type": "code",
   "execution_count": 58,
   "id": "97bb297f",
   "metadata": {},
   "outputs": [],
   "source": [
    "# *\n",
    "# **\n",
    "# ***\n",
    "# ****\n",
    "# *****"
   ]
  },
  {
   "cell_type": "code",
   "execution_count": 60,
   "id": "b94c0871",
   "metadata": {
    "collapsed": true
   },
   "outputs": [
    {
     "name": "stdout",
     "output_type": "stream",
     "text": [
      "*\n",
      "**\n",
      "***\n",
      "****\n",
      "*****\n"
     ]
    }
   ],
   "source": [
    "for i in range(1,6):\n",
    "    print('*'*i)"
   ]
  },
  {
   "cell_type": "code",
   "execution_count": 61,
   "id": "f51c9615",
   "metadata": {},
   "outputs": [],
   "source": [
    "# *****\n",
    "#  ****\n",
    "#   ***\n",
    "#    **\n",
    "#     *"
   ]
  },
  {
   "cell_type": "code",
   "execution_count": 62,
   "id": "5ed73783",
   "metadata": {
    "collapsed": true
   },
   "outputs": [
    {
     "name": "stdout",
     "output_type": "stream",
     "text": [
      " *****\n",
      "  ****\n",
      "   ***\n",
      "    **\n",
      "     *\n",
      "      \n"
     ]
    }
   ],
   "source": [
    "for i in range(6):\n",
    "    print(' '*i, '*'*(5-i))"
   ]
  },
  {
   "cell_type": "code",
   "execution_count": null,
   "id": "10291d74",
   "metadata": {},
   "outputs": [],
   "source": [
    "#     *\n",
    "#    **\n",
    "#   ***\n",
    "#  ****\n",
    "# *****"
   ]
  },
  {
   "cell_type": "code",
   "execution_count": 66,
   "id": "b884678c",
   "metadata": {
    "collapsed": true
   },
   "outputs": [
    {
     "name": "stdout",
     "output_type": "stream",
     "text": [
      "     *\n",
      "    **\n",
      "   ***\n",
      "  ****\n",
      " *****\n"
     ]
    }
   ],
   "source": [
    "for i in range(5):\n",
    "    print(' '*(4-i), '*'*(i+1))"
   ]
  },
  {
   "cell_type": "code",
   "execution_count": 67,
   "id": "f0adb53d",
   "metadata": {},
   "outputs": [],
   "source": [
    "# *****\n",
    "# ****\n",
    "# ***\n",
    "# **\n",
    "# *"
   ]
  },
  {
   "cell_type": "code",
   "execution_count": 68,
   "id": "23628296",
   "metadata": {},
   "outputs": [
    {
     "name": "stdout",
     "output_type": "stream",
     "text": [
      "*****\n",
      "****\n",
      "***\n",
      "**\n",
      "*\n"
     ]
    }
   ],
   "source": [
    "for i in range(5):\n",
    "    print('*'*(5-i))"
   ]
  },
  {
   "cell_type": "code",
   "execution_count": null,
   "id": "8c244dd8",
   "metadata": {},
   "outputs": [],
   "source": []
  },
  {
   "cell_type": "code",
   "execution_count": 72,
   "id": "19290c05",
   "metadata": {},
   "outputs": [
    {
     "name": "stdout",
     "output_type": "stream",
     "text": [
      "o p t t o a   h n i g "
     ]
    }
   ],
   "source": [
    "text = 'computational thinking'\n",
    "\n",
    "# 홀수번 인덱스만 출력하시오..\n",
    "\n",
    "for i in range(1, len(text), 2):\n",
    "    print(text[i], end=' ')"
   ]
  },
  {
   "cell_type": "code",
   "execution_count": null,
   "id": "451c4800",
   "metadata": {},
   "outputs": [],
   "source": []
  },
  {
   "cell_type": "code",
   "execution_count": 73,
   "id": "c7af1ee4",
   "metadata": {},
   "outputs": [],
   "source": [
    "# 구구단 출력하기.."
   ]
  },
  {
   "cell_type": "code",
   "execution_count": 78,
   "id": "57d11603",
   "metadata": {},
   "outputs": [
    {
     "name": "stdout",
     "output_type": "stream",
     "text": [
      "1*1= 1  2*1= 2  3*1= 3  4*1= 4  5*1= 5  6*1= 6  7*1= 7  8*1= 8  9*1= 9  \n",
      "1*2= 2  2*2= 4  3*2= 6  4*2= 8  5*2=10  6*2=12  7*2=14  8*2=16  9*2=18  \n",
      "1*3= 3  2*3= 6  3*3= 9  4*3=12  5*3=15  6*3=18  7*3=21  8*3=24  9*3=27  \n",
      "1*4= 4  2*4= 8  3*4=12  4*4=16  5*4=20  6*4=24  7*4=28  8*4=32  9*4=36  \n",
      "1*5= 5  2*5=10  3*5=15  4*5=20  5*5=25  6*5=30  7*5=35  8*5=40  9*5=45  \n",
      "1*6= 6  2*6=12  3*6=18  4*6=24  5*6=30  6*6=36  7*6=42  8*6=48  9*6=54  \n",
      "1*7= 7  2*7=14  3*7=21  4*7=28  5*7=35  6*7=42  7*7=49  8*7=56  9*7=63  \n",
      "1*8= 8  2*8=16  3*8=24  4*8=32  5*8=40  6*8=48  7*8=56  8*8=64  9*8=72  \n",
      "1*9= 9  2*9=18  3*9=27  4*9=36  5*9=45  6*9=54  7*9=63  8*9=72  9*9=81  \n"
     ]
    }
   ],
   "source": [
    "for i in range(1, 10):\n",
    "    for j in range(1, 10):\n",
    "        print(\"{1}*{0}={2:>2}\".format(i, j, i*j), end='  ')\n",
    "    print()"
   ]
  },
  {
   "cell_type": "code",
   "execution_count": null,
   "id": "a6c914e2",
   "metadata": {},
   "outputs": [],
   "source": []
  },
  {
   "cell_type": "code",
   "execution_count": null,
   "id": "550317e7",
   "metadata": {},
   "outputs": [],
   "source": []
  },
  {
   "cell_type": "markdown",
   "id": "ef4ad7cb",
   "metadata": {},
   "source": [
    "### File"
   ]
  },
  {
   "cell_type": "code",
   "execution_count": null,
   "id": "dc552e66",
   "metadata": {},
   "outputs": [],
   "source": [
    "# 1. 파일을 연다 - open(), => 모드를 설정 : 'r', 'w'\n",
    "# 2. 파일을 읽거나 쓴다 - read(), write()\n",
    "# 3. 파일을 닫는다 - close()\n",
    "\n",
    "# f = open('filename', 'r') \n",
    "# text = f.read()\n",
    "# f.close()\n",
    "\n",
    "# with open('filename', 'r') as f:   # with 구문 : close()를 자동으로 수행..\n",
    "#     text = f.read()  \n",
    "\n",
    "# f = open('filename', 'w')\n",
    "# f.write(text)\n",
    "# f.close()\n",
    "\n",
    "# with open('filename', 'w') as f:\n",
    "#     f.write(text)"
   ]
  },
  {
   "cell_type": "code",
   "execution_count": 80,
   "id": "cbae207a",
   "metadata": {},
   "outputs": [],
   "source": [
    "# 인터넷 뉴스 텍스트를 'news.txt'파일로 저장하시오..\n",
    "\n",
    "news = \"\"\"\n",
    "16일 오후 서울역 대합실에서 시민들이 윤석열 국민의힘 대선후보 부인 김건희씨의 7시간 \n",
    "통화록을 다룬 MBC 시사프로그램 스트레이트를 시청하고 있다. 뉴스1\n",
    "더불어민주당 인사들이 17일 윤석열 국민의힘 대선후보의 배우자 김건희씨의 \n",
    "'7시간 통화’ 보도와 관련해 ‘제2의 최순실’, ‘국정농단 시즌2’ 등의 표현을 쓰며 \n",
    "십자포화를 퍼부었다. 김씨가 사실상의 비선 실세라는 프레임을 노린 것이다. \n",
    "다만 당 차원에서는 섣부른 공세로 지난해 4·7 서울시장 보궐선거 당시 '생태탕' \n",
    "논란처럼 네거티브 프레임에 갇힐 것을 우려해 대응 수위를 조절하는 모습이다.\n",
    "\n",
    "현근택 민주당 선거대책위원회 대변인은 이날 CBS 라디오에서 \"그동안 캠프에 관여 안 \n",
    "한다, 관계없다는 얘기들이 사실이 아니었다\"며 \"'최순실 시즌2' 아니냐\"고 했다. \n",
    "추미애 전 법무부 장관도 페이스북에 \"시청 소감은 보수 정당이 다시 한 여인에 의해 \n",
    "완벽하게 접수돼 선거를 조종당하고 있다는 것\"이라고 비판했다.\n",
    "\"\"\"\n",
    "f = open('news.txt', 'w')\n",
    "f.write(news)\n",
    "f.close()\n",
    "\n",
    "# with open('news.txt', 'w') as f:\n",
    "#     f.write(news)"
   ]
  },
  {
   "cell_type": "code",
   "execution_count": null,
   "id": "be8c1c68",
   "metadata": {},
   "outputs": [],
   "source": [
    "# 'news.txt' 파일을 4가지 다른 방식으로 열어서 출력하시오"
   ]
  },
  {
   "cell_type": "code",
   "execution_count": 82,
   "id": "50053937",
   "metadata": {
    "collapsed": true
   },
   "outputs": [
    {
     "name": "stdout",
     "output_type": "stream",
     "text": [
      "\n",
      "16일 오후 서울역 대합실에서 시민들이 윤석열 국민의힘 대선후보 부인 김건희씨의 7시간 \n",
      "통화록을 다룬 MBC 시사프로그램 스트레이트를 시청하고 있다. 뉴스1\n",
      "더불어민주당 인사들이 17일 윤석열 국민의힘 대선후보의 배우자 김건희씨의 \n",
      "'7시간 통화’ 보도와 관련해 ‘제2의 최순실’, ‘국정농단 시즌2’ 등의 표현을 쓰며 \n",
      "십자포화를 퍼부었다. 김씨가 사실상의 비선 실세라는 프레임을 노린 것이다. \n",
      "다만 당 차원에서는 섣부른 공세로 지난해 4·7 서울시장 보궐선거 당시 '생태탕' \n",
      "논란처럼 네거티브 프레임에 갇힐 것을 우려해 대응 수위를 조절하는 모습이다.\n",
      "\n",
      "현근택 민주당 선거대책위원회 대변인은 이날 CBS 라디오에서 \"그동안 캠프에 관여 안 \n",
      "한다, 관계없다는 얘기들이 사실이 아니었다\"며 \"'최순실 시즌2' 아니냐\"고 했다. \n",
      "추미애 전 법무부 장관도 페이스북에 \"시청 소감은 보수 정당이 다시 한 여인에 의해 \n",
      "완벽하게 접수돼 선거를 조종당하고 있다는 것\"이라고 비판했다.\n",
      "\n"
     ]
    }
   ],
   "source": [
    "# 1\n",
    "\n",
    "f = open('news.txt', 'r')\n",
    "text = f.read()\n",
    "f.close()\n",
    "\n",
    "print(text)\n",
    "\n",
    "# with open('news.txt', 'r') as f:\n",
    "#     text = f.read()    "
   ]
  },
  {
   "cell_type": "code",
   "execution_count": 83,
   "id": "7349c313",
   "metadata": {
    "collapsed": true
   },
   "outputs": [
    {
     "name": "stdout",
     "output_type": "stream",
     "text": [
      "['\\n', '16일 오후 서울역 대합실에서 시민들이 윤석열 국민의힘 대선후보 부인 김건희씨의 7시간 \\n', '통화록을 다룬 MBC 시사프로그램 스트레이트를 시청하고 있다. 뉴스1\\n', '더불어민주당 인사들이 17일 윤석열 국민의힘 대선후보의 배우자 김건희씨의 \\n', \"'7시간 통화’ 보도와 관련해 ‘제2의 최순실’, ‘국정농단 시즌2’ 등의 표현을 쓰며 \\n\", '십자포화를 퍼부었다. 김씨가 사실상의 비선 실세라는 프레임을 노린 것이다. \\n', \"다만 당 차원에서는 섣부른 공세로 지난해 4·7 서울시장 보궐선거 당시 '생태탕' \\n\", '논란처럼 네거티브 프레임에 갇힐 것을 우려해 대응 수위를 조절하는 모습이다.\\n', '\\n', '현근택 민주당 선거대책위원회 대변인은 이날 CBS 라디오에서 \"그동안 캠프에 관여 안 \\n', '한다, 관계없다는 얘기들이 사실이 아니었다\"며 \"\\'최순실 시즌2\\' 아니냐\"고 했다. \\n', '추미애 전 법무부 장관도 페이스북에 \"시청 소감은 보수 정당이 다시 한 여인에 의해 \\n', '완벽하게 접수돼 선거를 조종당하고 있다는 것\"이라고 비판했다.\\n']\n"
     ]
    }
   ],
   "source": [
    "f = open('news.txt', 'r')\n",
    "text = f.readlines()\n",
    "f.close()\n",
    "\n",
    "print(text)"
   ]
  },
  {
   "cell_type": "code",
   "execution_count": 86,
   "id": "0588c3c5",
   "metadata": {
    "collapsed": true
   },
   "outputs": [
    {
     "name": "stdout",
     "output_type": "stream",
     "text": [
      "\n",
      "\n",
      "16일 오후 서울역 대합실에서 시민들이 윤석열 국민의힘 대선후보 부인 김건희씨의 7시간 \n",
      "\n",
      "통화록을 다룬 MBC 시사프로그램 스트레이트를 시청하고 있다. 뉴스1\n",
      "\n",
      "더불어민주당 인사들이 17일 윤석열 국민의힘 대선후보의 배우자 김건희씨의 \n",
      "\n",
      "'7시간 통화’ 보도와 관련해 ‘제2의 최순실’, ‘국정농단 시즌2’ 등의 표현을 쓰며 \n",
      "\n",
      "십자포화를 퍼부었다. 김씨가 사실상의 비선 실세라는 프레임을 노린 것이다. \n",
      "\n",
      "다만 당 차원에서는 섣부른 공세로 지난해 4·7 서울시장 보궐선거 당시 '생태탕' \n",
      "\n",
      "논란처럼 네거티브 프레임에 갇힐 것을 우려해 대응 수위를 조절하는 모습이다.\n",
      "\n",
      "\n",
      "\n",
      "현근택 민주당 선거대책위원회 대변인은 이날 CBS 라디오에서 \"그동안 캠프에 관여 안 \n",
      "\n",
      "한다, 관계없다는 얘기들이 사실이 아니었다\"며 \"'최순실 시즌2' 아니냐\"고 했다. \n",
      "\n",
      "추미애 전 법무부 장관도 페이스북에 \"시청 소감은 보수 정당이 다시 한 여인에 의해 \n",
      "\n",
      "완벽하게 접수돼 선거를 조종당하고 있다는 것\"이라고 비판했다.\n",
      "\n"
     ]
    }
   ],
   "source": [
    "f = open('news.txt', 'r')\n",
    "text = f.readline()\n",
    "\n",
    "while text:\n",
    "    print(text)\n",
    "    text = f.readline()\n",
    "\n",
    "f.close()\n"
   ]
  },
  {
   "cell_type": "code",
   "execution_count": 87,
   "id": "0e5aec1c",
   "metadata": {
    "collapsed": true
   },
   "outputs": [
    {
     "name": "stdout",
     "output_type": "stream",
     "text": [
      "\n",
      "\n",
      "16일 오후 서울역 대합실에서 시민들이 윤석열 국민의힘 대선후보 부인 김건희씨의 7시간 \n",
      "\n",
      "통화록을 다룬 MBC 시사프로그램 스트레이트를 시청하고 있다. 뉴스1\n",
      "\n",
      "더불어민주당 인사들이 17일 윤석열 국민의힘 대선후보의 배우자 김건희씨의 \n",
      "\n",
      "'7시간 통화’ 보도와 관련해 ‘제2의 최순실’, ‘국정농단 시즌2’ 등의 표현을 쓰며 \n",
      "\n",
      "십자포화를 퍼부었다. 김씨가 사실상의 비선 실세라는 프레임을 노린 것이다. \n",
      "\n",
      "다만 당 차원에서는 섣부른 공세로 지난해 4·7 서울시장 보궐선거 당시 '생태탕' \n",
      "\n",
      "논란처럼 네거티브 프레임에 갇힐 것을 우려해 대응 수위를 조절하는 모습이다.\n",
      "\n",
      "\n",
      "\n",
      "현근택 민주당 선거대책위원회 대변인은 이날 CBS 라디오에서 \"그동안 캠프에 관여 안 \n",
      "\n",
      "한다, 관계없다는 얘기들이 사실이 아니었다\"며 \"'최순실 시즌2' 아니냐\"고 했다. \n",
      "\n",
      "추미애 전 법무부 장관도 페이스북에 \"시청 소감은 보수 정당이 다시 한 여인에 의해 \n",
      "\n",
      "완벽하게 접수돼 선거를 조종당하고 있다는 것\"이라고 비판했다.\n",
      "\n"
     ]
    }
   ],
   "source": [
    "f = open('news.txt', 'r')\n",
    "\n",
    "for line in f:\n",
    "    print(line)"
   ]
  },
  {
   "cell_type": "code",
   "execution_count": 88,
   "id": "63e28a77",
   "metadata": {},
   "outputs": [],
   "source": [
    "# with open('filename', 'r') as f:\n",
    "\n",
    "# 1     text = f.read()       - 전체 text를 한 번에 읽는다\n",
    "# 2     text = f.readlines()  - 한 문장씩 리스트에 담아서 출력..\n",
    "# 3     text = f.readline()   - 한 문장을 읽는다\n",
    "# 4     for line as f:        - 파일 객체를 for을 이용해서 한 문장씩 출력\n",
    "#         pass"
   ]
  },
  {
   "cell_type": "code",
   "execution_count": null,
   "id": "c3fdad47",
   "metadata": {},
   "outputs": [],
   "source": []
  },
  {
   "cell_type": "code",
   "execution_count": 17,
   "id": "5fb66ec9",
   "metadata": {},
   "outputs": [
    {
     "data": {
      "text/plain": [
       "'2 45\\n4 39\\n1 41\\n3 40'"
      ]
     },
     "execution_count": 17,
     "metadata": {},
     "output_type": "execute_result"
    }
   ],
   "source": [
    "f = open('./python_data_files/ban.txt', 'r')\n",
    "text = f.read()\n",
    "text"
   ]
  },
  {
   "cell_type": "code",
   "execution_count": 23,
   "id": "5a13d2a7",
   "metadata": {},
   "outputs": [
    {
     "name": "stdout",
     "output_type": "stream",
     "text": [
      "['2', '45']\n",
      "['4', '39']\n",
      "['1', '41']\n",
      "['3', '40']\n"
     ]
    },
    {
     "data": {
      "text/plain": [
       "{'2': '45', '4': '39', '1': '41', '3': '40'}"
      ]
     },
     "execution_count": 23,
     "metadata": {},
     "output_type": "execute_result"
    }
   ],
   "source": [
    "# ban.txt를 열어서 내용을 dict로 저장하시오..\n",
    "\n",
    "d = {}\n",
    "\n",
    "f = open('./python_data_files/ban.txt', 'r')\n",
    "\n",
    "lines = f.readlines()\n",
    "\n",
    "for line in lines:\n",
    "    print(line.split())\n",
    "    \n",
    "    key = line.split()[0]\n",
    "    value = line.split()[1]\n",
    "    \n",
    "    d[key] = value\n",
    "d"
   ]
  },
  {
   "cell_type": "code",
   "execution_count": 25,
   "id": "32ee7fc2",
   "metadata": {},
   "outputs": [
    {
     "data": {
      "text/plain": [
       "'2 Alice Paul David Bob\\n4 Cindy Stella Bill\\n1 Henry Jenny Jessica Eric Tim\\n3 John Joe Tom\\n'"
      ]
     },
     "execution_count": 25,
     "metadata": {},
     "output_type": "execute_result"
    }
   ],
   "source": [
    "f = open('./python_data_files/ban_student.txt', 'r')\n",
    "text = f.read()\n",
    "text"
   ]
  },
  {
   "cell_type": "code",
   "execution_count": null,
   "id": "998f26e1",
   "metadata": {},
   "outputs": [],
   "source": []
  },
  {
   "cell_type": "code",
   "execution_count": null,
   "id": "b18117a0",
   "metadata": {},
   "outputs": [],
   "source": [
    "# ban_student.txt를 열어서 내용을 dict로 저장하시오..\n",
    "# {'2':['Alice Paul David Bob'], '3':['John Joe Tom'] ...}"
   ]
  },
  {
   "cell_type": "code",
   "execution_count": 26,
   "id": "dda6d68c",
   "metadata": {},
   "outputs": [
    {
     "data": {
      "text/plain": [
       "'D:\\\\fintech\\\\python'"
      ]
     },
     "execution_count": 26,
     "metadata": {},
     "output_type": "execute_result"
    }
   ],
   "source": [
    "pwd"
   ]
  },
  {
   "cell_type": "code",
   "execution_count": 37,
   "id": "b832fd14",
   "metadata": {},
   "outputs": [
    {
     "data": {
      "text/plain": [
       "{'2': ' Alice Paul David Bob\\n',\n",
       " '4': ' Cindy Stella Bill\\n',\n",
       " '1': ' Henry Jenny Jessica Eric Tim\\n',\n",
       " '3': ' John Joe Tom\\n'}"
      ]
     },
     "execution_count": 37,
     "metadata": {},
     "output_type": "execute_result"
    }
   ],
   "source": [
    "f = open('./python_data_files/ban_student.txt', 'r')\n",
    "d = {}\n",
    "lines = f.readlines()\n",
    "for line in lines:\n",
    "    key = line[0]\n",
    "    value = line[1:]\n",
    "    d[key] = value\n",
    "d"
   ]
  },
  {
   "cell_type": "code",
   "execution_count": null,
   "id": "4cbea455",
   "metadata": {},
   "outputs": [],
   "source": [
    "# 'stockcode.txt'에서 모든 코드번호와 종목명을 출력하시오.."
   ]
  },
  {
   "cell_type": "code",
   "execution_count": 42,
   "id": "563375c0",
   "metadata": {
    "collapsed": true
   },
   "outputs": [
    {
     "data": {
      "text/plain": [
       "{'동화약품': '000020',\n",
       " 'S&T모터스': '000040',\n",
       " '경방': '000050',\n",
       " '메리츠화재': '000060',\n",
       " '삼양사': '000070',\n",
       " '삼양사우': '000071',\n",
       " '유한양행': '000100',\n",
       " '유한양행우': '000101',\n",
       " '대한통운': '000120',\n",
       " '하이트홀딩스': '000140',\n",
       " '하이트홀딩스우': '000141',\n",
       " '두산': '000150',\n",
       " '두산우': '000151',\n",
       " '두산2우B': '000152',\n",
       " '성창기업지주': '000180',\n",
       " '대림산업': '000210',\n",
       " '대림산업우': '000211',\n",
       " '유유제약': '000220',\n",
       " '유유제약1우': '000221',\n",
       " '유유제약2우B': '000222',\n",
       " '일동제약': '000230',\n",
       " '한국타이어': '000240',\n",
       " '기아차': '000270',\n",
       " '대유신소재': '000300',\n",
       " '디피아이홀딩스': '000320',\n",
       " '디피아이홀딩스우': '000321',\n",
       " '디피아이홀딩스2B': '000322',\n",
       " '삼환기업': '000360',\n",
       " '삼환기업우': '000361',\n",
       " '한화손해보험': '000370',\n",
       " '삼화페인트': '000390',\n",
       " '롯데손해보험': '000400',\n",
       " '로케트전기': '000420',\n",
       " '로케트전우': '000421',\n",
       " '대원강업': '000430',\n",
       " '그린손해보험': '000470',\n",
       " '조선내화': '000480',\n",
       " '대동공업': '000490',\n",
       " '가온전선': '000500',\n",
       " '삼일제약': '000520',\n",
       " '흥국쌍용화재': '000540',\n",
       " '흥국쌍용화재우': '000541',\n",
       " '흥국쌍용화재2우B': '000542',\n",
       " '조선선재': '000590',\n",
       " '제일화재': '000610',\n",
       " '동아제약': '000640',\n",
       " '천일고속': '000650',\n",
       " '하이닉스': '000660',\n",
       " '영풍': '000670',\n",
       " 'LS네트웍스': '000680',\n",
       " 'LS네트웍스우': '000681',\n",
       " '한진해운': '000700',\n",
       " '현대건설': '000720',\n",
       " '현대건설우': '000721',\n",
       " '이화산업': '000760',\n",
       " 'C&상선': '000790',\n",
       " '경남기업': '000800',\n",
       " '삼성화재': '000810',\n",
       " '삼성화재우': '000811',\n",
       " '삼성물산': '000830',\n",
       " '삼성물산우': '000831',\n",
       " '화천기공': '000850',\n",
       " '건설화학': '000860',\n",
       " '한화': '000880',\n",
       " '한화우': '000881',\n",
       " '보해양조': '000890',\n",
       " '보해양조우': '000891',\n",
       " '유니온': '000910',\n",
       " '전방': '000950',\n",
       " '한국주철관': '000970',\n",
       " '동부하이텍': '000990',\n",
       " '동부하이텍1우': '000991',\n",
       " '동부하이텍2우B': '000992',\n",
       " '페이퍼코리아': '001020',\n",
       " 'CJ': '079160',\n",
       " 'CJ우': '001041',\n",
       " 'CJ2우B': '001042',\n",
       " 'CJ3우B': '001043',\n",
       " '중외제약': '001060',\n",
       " '중외제약우': '001061',\n",
       " '중외제약2우B': '001062',\n",
       " '대한방직': '001070',\n",
       " '만호제강': '001080',\n",
       " 'LG상사': '001120',\n",
       " '대한제분': '001130',\n",
       " '국보': '001140',\n",
       " '마이크로닉스': '001190',\n",
       " '유진투자증권': '001200',\n",
       " '금호전기': '001210',\n",
       " '동국제강': '001230',\n",
       " '쌍용': '001250',\n",
       " '남광토건': '001260',\n",
       " '부국증권': '001270',\n",
       " '부국증권우': '001271',\n",
       " '골든브릿지증권': '001290',\n",
       " '제일모직': '001300',\n",
       " '풍림산업': '001310',\n",
       " '백광산업': '001340',\n",
       " '삼성제약': '001360',\n",
       " 'FnC코오롱': '001370',\n",
       " 'FnC코오롱우': '001371',\n",
       " 'SG글로벌': '001380',\n",
       " 'SG글로벌우': '001381',\n",
       " 'KG케미칼': '001390',\n",
       " '태원물산': '001420',\n",
       " '세아베스틸': '001430',\n",
       " '대한전선': '001440',\n",
       " '현대해상': '001450',\n",
       " 'BYC': '001460',\n",
       " 'BYC우': '001461',\n",
       " '삼부토건': '001470',\n",
       " 'HMC투자증권': '001500',\n",
       " 'SK증권': '001510',\n",
       " 'SK증권우': '001511',\n",
       " '동양메이저': '001520',\n",
       " '동양메이저우': '001521',\n",
       " '동양메이저2우B': '001522',\n",
       " '동양메이저3우B': '001523',\n",
       " '동일방직': '001530',\n",
       " '조비': '001550',\n",
       " '제일연마': '001560',\n",
       " '금양': '001570',\n",
       " '서광건설': '001600',\n",
       " '동국실업': '001620',\n",
       " '종근당': '001630',\n",
       " '대상': '001680',\n",
       " '대상우': '001681',\n",
       " '대상2우B': '001682',\n",
       " '대상3우B': '001683',\n",
       " '신영증권': '001720',\n",
       " '신영증권우': '001721',\n",
       " 'SK네트웍스': '001740',\n",
       " 'SK네트웍스우': '001741',\n",
       " '한양증권': '001750',\n",
       " '한양증권우': '001751',\n",
       " '신화실업': '001770',\n",
       " '동양강철': '001780',\n",
       " '대한제당': '001790',\n",
       " '대한제당우': '001791',\n",
       " '오리온': '001800',\n",
       " '삼화콘덴서': '001820',\n",
       " '삼호': '001880',\n",
       " 'KISCO홀딩스': '001940',\n",
       " '남한제지': '001950',\n",
       " '남한제지우': '001951',\n",
       " '신성건설': '001970',\n",
       " '신성건설우': '001971',\n",
       " '한국유리': '002000',\n",
       " '한국유리우': '002001',\n",
       " '코오롱': '002020',\n",
       " '코오롱우': '002021',\n",
       " '코오롱2우B': '002022',\n",
       " '아세아시멘트': '002030',\n",
       " '남영L&F': '002070',\n",
       " '경농': '002100',\n",
       " '고려산업': '002140',\n",
       " '삼양통상': '002170',\n",
       " '수출포장': '002200',\n",
       " '동성제약': '002210',\n",
       " '한일철강': '002220',\n",
       " '고려제강': '002240',\n",
       " '근화제약': '002250',\n",
       " '롯데삼강': '002270',\n",
       " '한국제지': '002300',\n",
       " '아세아제지': '002310',\n",
       " '한진': '002320',\n",
       " '넥센타이어': '002350',\n",
       " '넥센타이어1우B': '002351',\n",
       " 'SH에너지화학': '002360',\n",
       " 'SH에너지화학우': '002361',\n",
       " 'KCC': '002380',\n",
       " '한독약품': '002390',\n",
       " '범양건영': '002410',\n",
       " '세기상사': '002420',\n",
       " '삼익악기': '002450',\n",
       " '화성산업': '002460',\n",
       " '벽산건설': '002530',\n",
       " '벽산건설우': '002531',\n",
       " '고제': '002540',\n",
       " 'LIG손해보험': '002550',\n",
       " '조흥': '002600',\n",
       " '제일약품': '002620',\n",
       " '오리엔트바이오': '002630',\n",
       " '신일산업': '002700',\n",
       " '동양석판': '002710',\n",
       " '국제약품': '002720',\n",
       " '보락': '002760',\n",
       " '진흥기업': '002780',\n",
       " '진흥기업우B': '002781',\n",
       " '진흥기업2우B': '002782',\n",
       " '태평양': '002790',\n",
       " '태평양우': '002791',\n",
       " '태평양2우B': '002792',\n",
       " '삼영무역': '002810',\n",
       " '선창산업': '002820',\n",
       " '미원상사': '002840',\n",
       " '신풍제지': '002870',\n",
       " '대유디엠씨': '002880',\n",
       " '동양물산': '002900',\n",
       " '유성기업': '002920',\n",
       " '한국쉘석유': '002960',\n",
       " '금호산업': '002990',\n",
       " '금호산업우': '002991',\n",
       " '부광약품': '003000',\n",
       " '혜인': '003010',\n",
       " '세아제강': '003030',\n",
       " '한국슈넬제약': '003060',\n",
       " '코오롱건설': '003070',\n",
       " '코오롱건우': '003071',\n",
       " '성보화학': '003080',\n",
       " '대웅': '003090',\n",
       " '일성신약': '003120',\n",
       " '디아이': '003160',\n",
       " '알앤엘바이오': '003190',\n",
       " '일신방직': '003200',\n",
       " '대원제약': '003220',\n",
       " '삼양식품': '003230',\n",
       " '태광산업': '003240',\n",
       " '흥아해운': '003280',\n",
       " '한일시멘트': '003300',\n",
       " '한국화장품': '003350',\n",
       " '쌍용양회': '003410',\n",
       " '쌍용양회우': '003411',\n",
       " '쌍용양회2우B': '003412',\n",
       " '쌍용양회3우B': '003413',\n",
       " '쌍용양회4우B': '003414',\n",
       " '쌍용양회5우B': '003415',\n",
       " '현대증권': '003450',\n",
       " '유화증권': '003460',\n",
       " '유화증권우': '003461',\n",
       " '동양종금증권': '003470',\n",
       " '동양종금증권1우': '003471',\n",
       " '한진중공업홀딩스': '003480',\n",
       " '대한항공': '003490',\n",
       " '대한항공우': '003491',\n",
       " '영진약품': '003520',\n",
       " '한화증권': '003530',\n",
       " '한화증권우': '003531',\n",
       " '대신증권': '003540',\n",
       " '대신증권우': '003541',\n",
       " '대신증권2우B': '003542',\n",
       " 'LG': '003550',\n",
       " 'LG우': '003551',\n",
       " 'IHQ': '003560',\n",
       " 'S&T중공업': '003570',\n",
       " '동원': '003580',\n",
       " 'SK': '003600',\n",
       " 'SK우': '003601',\n",
       " '방림': '003610',\n",
       " '쌍용차': '003620',\n",
       " '유니온스틸': '003640',\n",
       " '미창석유': '003650',\n",
       " '한성기업': '003680',\n",
       " '코리안리': '003690',\n",
       " '삼영화학': '003720',\n",
       " '진양산업': '003780',\n",
       " '대한화섬': '003830',\n",
       " '보령제약': '003850',\n",
       " '남양유업': '003920',\n",
       " '남양유업우': '003921',\n",
       " '삼양제넥스': '003940',\n",
       " '삼양제넥우': '003941',\n",
       " '사조대림': '003960',\n",
       " '사조대림우': '003961',\n",
       " 'BHK': '003990',\n",
       " '삼성정밀화학': '004000',\n",
       " '롯데미도파': '004010',\n",
       " '현대제철': '004021',\n",
       " '에스지위카스': '004060',\n",
       " '신흥': '004080',\n",
       " '한국석유': '004090',\n",
       " '태양금속': '004100',\n",
       " '태양금속우': '004101',\n",
       " '대덕GDS': '004130',\n",
       " '대덕GDS우': '004131',\n",
       " '대덕GDS2우B': '004132',\n",
       " '동방': '004140',\n",
       " '동방전환상환2우B': '004142',\n",
       " '동방전환상환3우B': '004143',\n",
       " '한솔제지': '004150',\n",
       " '신세계': '035510',\n",
       " '고려개발': '004200',\n",
       " '세신': '004230',\n",
       " '내쇼날푸라스': '004250',\n",
       " '내쇼날푸우': '004251',\n",
       " '남성': '004270',\n",
       " '현대약품': '004310',\n",
       " '세방': '004360',\n",
       " '세방우': '004361',\n",
       " '세방2우B': '004362',\n",
       " '농심': '004370',\n",
       " '삼익THK': '004380',\n",
       " '서울식품': '004410',\n",
       " '서울식품우': '004411',\n",
       " '송원산업': '004430',\n",
       " '삼화왕관': '004450',\n",
       " '세방전지': '004490',\n",
       " '대한펄프': '004540',\n",
       " '대한펄프우': '004541',\n",
       " '대우차판매': '004550',\n",
       " '대우차판매1우': '004551',\n",
       " 'BNG스틸': '004560',\n",
       " 'BNG스틸우': '004561',\n",
       " '캠브리지': '004620',\n",
       " '삼천리': '004690',\n",
       " '조광피혁': '004700',\n",
       " '한솔LCD': '004710',\n",
       " '우리들생명과학': '004720',\n",
       " '보루네오': '004740',\n",
       " '써니전자': '004770',\n",
       " '효성': '004800',\n",
       " '조인에너지': '004820',\n",
       " '덕성': '004830',\n",
       " '덕성우': '004831',\n",
       " '동일벨트': '004840',\n",
       " '아인스': '004870',\n",
       " '동일산업': '004890',\n",
       " '조광페인트': '004910',\n",
       " '삼영홀딩스': '004920',\n",
       " '외환은행': '004940',\n",
       " '한신공영': '004960',\n",
       " '한신공영우': '004961',\n",
       " '신라교역': '004970',\n",
       " '성신양회': '004980',\n",
       " '성신양회우': '004981',\n",
       " '성신양회2우B': '004982',\n",
       " '성신양회3우B': '004983',\n",
       " '롯데제과': '004990',\n",
       " '휴스틸': '005010',\n",
       " '부산주공': '005030',\n",
       " '새한미디어': '005070',\n",
       " '삼광유리': '005090',\n",
       " '한창': '005110',\n",
       " '빙그레': '005180',\n",
       " '동성화학': '005190',\n",
       " '녹십자홀딩스': '005250',\n",
       " '녹십자홀딩스1우': '005251',\n",
       " '녹십자홀딩스2우': '005252',\n",
       " '대구은행': '005270',\n",
       " '부산은행': '005280',\n",
       " '롯데칠성': '005300',\n",
       " '롯데칠성우': '005301',\n",
       " '국동': '005320',\n",
       " '선우ST': '005350',\n",
       " '모나미': '005360',\n",
       " '현대차': '005380',\n",
       " '현대차우': '005381',\n",
       " '현대차2우B': '005382',\n",
       " '현대차3우B': '005383',\n",
       " '신성통상': '005390',\n",
       " '코스모화학': '005420',\n",
       " '한국공항': '005430',\n",
       " '현대H&S': '005440',\n",
       " '신한': '005450',\n",
       " 'POSCO': '005490',\n",
       " '삼진제약': '005500',\n",
       " 'JS전선': '005560',\n",
       " '삼립식품': '005610',\n",
       " '대성산업': '005620',\n",
       " '삼영전자': '005680',\n",
       " '로이': '005690',\n",
       " '넥센': '005720',\n",
       " '넥센우': '005721',\n",
       " '크라운제과': '005740',\n",
       " '크라운제우': '005741',\n",
       " '대림B&Co': '005750',\n",
       " '신영와코루': '005800',\n",
       " '풍산홀딩스': '005810',\n",
       " '원림': '005820',\n",
       " '동부화재': '005830',\n",
       " '에스엘': '005850',\n",
       " '휴니드': '005870',\n",
       " '대한해운': '005880',\n",
       " '동양건설': '005900',\n",
       " '삼성전자': '005930',\n",
       " '삼성전자우': '005931',\n",
       " '우리투자증권': '005940',\n",
       " '우리투자증권우': '005941',\n",
       " '이수화학': '005950',\n",
       " '동부건설': '005960',\n",
       " '동부건설우': '005961',\n",
       " '성지건설': '005980',\n",
       " '동원산업': '006040',\n",
       " '화승인더': '006060',\n",
       " '기린': '006070',\n",
       " '오양수산': '006090',\n",
       " '삼아알미늄': '006110',\n",
       " 'SK케미칼': '006120',\n",
       " 'SK케미칼우': '006121',\n",
       " 'KEC홀딩스': '006200',\n",
       " '휴리프': '006210',\n",
       " '제주은행': '006220',\n",
       " 'LS': '006260',\n",
       " '녹십자': '006280',\n",
       " '대원전선': '006340',\n",
       " '대원전선우': '006341',\n",
       " '전북은행': '006350',\n",
       " 'GS건설': '006360',\n",
       " '대구백화점': '006370',\n",
       " '대구백화우': '006371',\n",
       " '카프로': '006380',\n",
       " '현대시멘트': '006390',\n",
       " '삼성SDI': '006400',\n",
       " '삼성SDI우': '006401',\n",
       " '한일건설': '006440',\n",
       " '로엔케이': '006490',\n",
       " '대림통상': '006570',\n",
       " '대한유화': '006650',\n",
       " '삼성공조': '006660',\n",
       " '영풍제지': '006740',\n",
       " '대우증권': '006800',\n",
       " '대우증권우': '006801',\n",
       " '애경유화': '006840',\n",
       " '태경화학': '006890',\n",
       " '우성사료': '006980',\n",
       " '유리이에스': '007050',\n",
       " '일신석재': '007110',\n",
       " '유니모테크': '007120',\n",
       " '사조산업': '007160',\n",
       " '이엔페이퍼': '007190',\n",
       " '이엔페이퍼우': '007191',\n",
       " '진흥저축은행': '007200',\n",
       " '벽산': '007210',\n",
       " '한국특수형강': '007280',\n",
       " '오뚜기': '007310',\n",
       " '동아타이어': '007340',\n",
       " '케이아이씨': '007460',\n",
       " '대한은박지': '007480',\n",
       " '태창기업': '007490',\n",
       " '샘표식품': '007540',\n",
       " '일양약품': '007570',\n",
       " '일양약품우': '007571',\n",
       " '동방아그로': '007590',\n",
       " '동방아그우': '007591',\n",
       " '선도전기': '007610',\n",
       " '지에스인스트루': '007630',\n",
       " '이수페타시스': '007660',\n",
       " '국도화학': '007690',\n",
       " 'F&F': '007700',\n",
       " '솔로몬저축은행': '007800',\n",
       " '코리아써키트': '007810',\n",
       " '코리아써우': '007811',\n",
       " '한일이화': '007860',\n",
       " '태평양물산': '007980',\n",
       " '웅진케미칼': '008000',\n",
       " '경남에너지': '008020',\n",
       " '동아에스에프': '008040',\n",
       " '대덕전자': '008060',\n",
       " '삼양옵틱스': '008080',\n",
       " '대동전자': '008110',\n",
       " '이건산업': '008250',\n",
       " 'NI스틸': '008260',\n",
       " '한국기술산업': '008320',\n",
       " '남선알미늄': '008350',\n",
       " '남선알미우': '008351',\n",
       " 'C&중공업': '008400',\n",
       " 'C&중공업우': '008401',\n",
       " '문배철강': '008420',\n",
       " '서흥캅셀': '008490',\n",
       " '일정실업': '008500',\n",
       " '일경': '008540',\n",
       " '메리츠증권': '008560',\n",
       " '미래와사람': '008600',\n",
       " '아남전자': '008700',\n",
       " '아남전자우': '008701',\n",
       " '삼양중기': '008720',\n",
       " '율촌화학': '008730',\n",
       " '호텔신라': '008770',\n",
       " '호텔신라우': '008771',\n",
       " '금비': '008870',\n",
       " '티이씨앤코': '008900',\n",
       " '한미약품': '008930',\n",
       " '동양철관': '008970',\n",
       " '동양철관우': '008971',\n",
       " 'KCTC': '009070',\n",
       " '경인전자': '009140',\n",
       " '삼성전기': '009150',\n",
       " '삼성전기우': '009151',\n",
       " 'SIMPAC': '009160',\n",
       " '한솔CSN': '009180',\n",
       " '대양금속': '009190',\n",
       " '무림페이퍼': '009200',\n",
       " '한샘': '009240',\n",
       " '신원': '009270',\n",
       " '신원우': '009271',\n",
       " '다함이텍': '009280',\n",
       " '광동제약': '009290',\n",
       " '참앤씨': '009310',\n",
       " '대우부품': '009320',\n",
       " '아세아페이퍼텍': '009380',\n",
       " '아세아페우B': '009381',\n",
       " '태영건설': '009410',\n",
       " '태영건설우': '009411',\n",
       " '한올제약': '009420',\n",
       " 'KC코트렐': '009440',\n",
       " '경동나비엔': '009450',\n",
       " '한창제지': '009460',\n",
       " '삼화전기': '009470',\n",
       " '현대중공업': '009540',\n",
       " '동해펄프': '009580',\n",
       " '모토닉': '009680',\n",
       " '케이엠에이치': '009690',\n",
       " '전기초자': '009720',\n",
       " '삼정펄프': '009770',\n",
       " '고려포리머': '009810',\n",
       " '고려포리머우': '009811',\n",
       " '한화석화': '009830',\n",
       " '한화석화1우': '009831',\n",
       " '영원무역': '009970',\n",
       " '한국내화': '010040',\n",
       " '금호종금': '010050',\n",
       " '동양제철화학': '010060',\n",
       " '한국프랜지': '010100',\n",
       " 'LS산전': '010120',\n",
       " '고려아연': '010130',\n",
       " '삼성중공업': '010140',\n",
       " '삼성중공우': '010141',\n",
       " '한솔PNS': '010420',\n",
       " '한국개발금융': '010460',\n",
       " '현대하이스코': '010520',\n",
       " '지코': '010580',\n",
       " '영창실업': '010600',\n",
       " '현대미포조선': '010620',\n",
       " '진양폴리': '010640',\n",
       " '화천기계': '010660',\n",
       " '화신': '010690',\n",
       " '평화홀딩스': '010770',\n",
       " '아이에스동서': '010780',\n",
       " '퍼스텍': '010820',\n",
       " 'S-Oil': '010950',\n",
       " 'S-Oil우': '010951',\n",
       " '삼호개발': '010960',\n",
       " 'VGX인터': '011000',\n",
       " '케드콤': '011050',\n",
       " 'LG이노텍': '011070',\n",
       " '에넥스': '011090',\n",
       " '삼호F&G': '011150',\n",
       " '삼호F&G1우': '011151',\n",
       " '두산건설': '011160',\n",
       " '호남석유': '011170',\n",
       " '현대상선': '011200',\n",
       " '삼화전자': '011230',\n",
       " '태림포장': '011280',\n",
       " '성안': '011300',\n",
       " '유니켐': '011330',\n",
       " '부산산업': '011390',\n",
       " '케이씨오에너지': '011400',\n",
       " 'IB스포츠': '011420',\n",
       " '한농화성': '011500',\n",
       " '유양디앤유': '011690',\n",
       " '한신기계': '011700',\n",
       " '현대피앤씨': '011720',\n",
       " '현대상사': '011760',\n",
       " '금호석유': '011780',\n",
       " '금호석유우': '011781',\n",
       " 'SKC': '011790',\n",
       " '배명금속': '011800',\n",
       " 'STX': '011810',\n",
       " '신성홀딩스': '011930',\n",
       " '동부정밀': '012030',\n",
       " '성원건설': '012090',\n",
       " '성원건설우': '012091',\n",
       " '한신DNP': '012170',\n",
       " '계양전기': '012200',\n",
       " '계양전기우': '012201',\n",
       " '영화금속': '012280',\n",
       " '경동가스': '012320',\n",
       " '현대모비스': '012330',\n",
       " '현대모비스우': '012331',\n",
       " '옵티머스': '012400',\n",
       " '옵티머스우': '012401',\n",
       " '청호전자통신': '012410',\n",
       " '메리츠종금': '012420',\n",
       " '삼성테크윈': '012450',\n",
       " '더존비즈온': '012510',\n",
       " '톰보이': '012580',\n",
       " '청호컴넷': '012600',\n",
       " '경인양행': '012610',\n",
       " '현대산업': '012630',\n",
       " '모나리자': '012690',\n",
       " '에스원': '012750',\n",
       " '대창공업': '012800',\n",
       " '대창공업우': '012801',\n",
       " '세우글로벌': '013000',\n",
       " '세우글로벌우': '013001',\n",
       " 'C&우방': '013200',\n",
       " '셀런': '013240',\n",
       " '일성건설': '013360',\n",
       " '일성건설우B': '013361',\n",
       " '일성건설2우B': '013362',\n",
       " '화승알앤에이': '013520',\n",
       " '동양기전': '013570',\n",
       " '계룡건설': '013580',\n",
       " '삼환까뮤': '013700',\n",
       " '한익스프레스': '014130',\n",
       " '대영포장': '014160',\n",
       " '금강공업': '014280',\n",
       " '금강공업우': '014281',\n",
       " '선진': '014300',\n",
       " '신일건업': '014350',\n",
       " '영보화학': '014440',\n",
       " '극동유화': '014530',\n",
       " '백광소재': '014580',\n",
       " '티엘씨레저': '014590',\n",
       " '한솔케미칼': '014680',\n",
       " '한라건설': '014790',\n",
       " '동원시스템즈': '014820',\n",
       " '동원시스템즈우': '014821',\n",
       " '유니드': '014830',\n",
       " '성문전자': '014910',\n",
       " '성문전자우': '014911',\n",
       " '인디에프': '014990',\n",
       " '이스타코': '015020',\n",
       " '중앙건설': '015110',\n",
       " '대창단조': '015230',\n",
       " '에이엔피': '015260',\n",
       " '부산가스': '015350',\n",
       " '예스코': '015360',\n",
       " '웰스브릿지': '015540',\n",
       " '웰스브릿지우': '015541',\n",
       " '대경기계': '015590',\n",
       " '한국전력': '015760',\n",
       " '일진홀딩스': '015860',\n",
       " '태경산업': '015890',\n",
       " 'LG데이콤': '015940',\n",
       " '대현': '016090',\n",
       " '오라에너지': '016160',\n",
       " '오라에너지2우B': '016162',\n",
       " '삼성증권': '016360',\n",
       " '동부제철': '016380',\n",
       " '동부제철우': '016381',\n",
       " 'NH투자증권': '016420',\n",
       " '한세예스24홀딩스': '016450',\n",
       " '현대DSF': '016510',\n",
       " '서울저축은행': '016560',\n",
       " '태평양제약': '016570',\n",
       " '태평양제우': '016571',\n",
       " '환인제약': '016580',\n",
       " '신대양제지': '016590',\n",
       " '동부증권': '016610',\n",
       " '대구가스': '016710',\n",
       " '퍼시스': '016800',\n",
       " '웅진홀딩스': '016880',\n",
       " '광명전기': '017040',\n",
       " '프라임엔터': '017170',\n",
       " '명문제약': '017180',\n",
       " 'KDS': '017300',\n",
       " '우신시스템': '017370',\n",
       " '서울가스': '017390',\n",
       " '수산중공업': '017550',\n",
       " '수산중공우': '017551',\n",
       " 'SK텔레콤': '017670',\n",
       " '현대엘리베이': '017800',\n",
       " '풀무원홀딩스': '017810',\n",
       " '광전자': '017900',\n",
       " 'E1': '017940',\n",
       " '한국카본': '017960',\n",
       " '현대금속': '018410',\n",
       " '현대금속우': '018411',\n",
       " '현대금속2우B': '018412',\n",
       " '조일알미늄': '018470',\n",
       " '동원금속': '018500',\n",
       " 'SK가스': '018670',\n",
       " '한라공조': '018880',\n",
       " '신풍제약': '019170',\n",
       " '신풍제약우': '019171',\n",
       " '티에이치엔': '019180',\n",
       " '동일제지': '019300',\n",
       " '하이트론': '019490',\n",
       " '대교': '019680',\n",
       " '대교우B': '019681',\n",
       " '한섬': '020000',\n",
       " '인큐브테크': '020120',\n",
       " '아시아나항공': '020560',\n",
       " '일진디스플': '020760',\n",
       " '서원': '021050',\n",
       " '웅진코웨이': '021240',\n",
       " '세원정공': '021820',\n",
       " '우리파이낸셜': '021960',\n",
       " 'MH에탄올': '023150',\n",
       " '동남합성': '023450',\n",
       " '롯데쇼핑': '023530',\n",
       " '다우기술': '023590',\n",
       " '인지컨트롤스': '023800',\n",
       " '인팩': '023810',\n",
       " '에쓰씨엔지니어링': '023960',\n",
       " 'WISCOM': '024070',\n",
       " '디씨엠': '024090',\n",
       " '제일저축은행': '024100',\n",
       " '기업은행': '024110',\n",
       " '한국콜마': '024720',\n",
       " '유성티에스아이': '024870',\n",
       " '대원화성': '024890',\n",
       " '덕양산업': '024900',\n",
       " 'KPX케미칼': '025000',\n",
       " 'SJM': '025530',\n",
       " '한국단자': '025540',\n",
       " '미래산업': '025560',\n",
       " '한국저축은행': '025610',\n",
       " '신우': '025620',\n",
       " '한솔홈데코': '025750',\n",
       " '이구산업': '025820',\n",
       " 'KPX화인케미칼': '025850',\n",
       " '남해화학': '025860',\n",
       " '한국주강': '025890',\n",
       " '대한가스': '026870',\n",
       " '디피씨': '026890',\n",
       " '부국철강': '026940',\n",
       " '한화타임월드': '027390',\n",
       " '마니커': '027740',\n",
       " '고덴시': '027840',\n",
       " '세하': '027970',\n",
       " '삼성엔지니어링': '028050',\n",
       " 'STX팬오션': '028670',\n",
       " '케이씨텍': '029460',\n",
       " '신도리코': '029530',\n",
       " '삼성카드': '029780',\n",
       " '제일기획': '030000',\n",
       " 'KT': '030200',\n",
       " 'KTB투자증권': '030210',\n",
       " '교보증권': '030610',\n",
       " '동원수산': '030720',\n",
       " '콤텍시스템': '031820',\n",
       " '롯데관광개발': '032350',\n",
       " 'KTF': '032390',\n",
       " 'LG텔레콤': '032640',\n",
       " '필룩스': '033180',\n",
       " '자화전자': '033240',\n",
       " '체시스': '033250',\n",
       " '유나이티드제약': '033270',\n",
       " '세종공업': '033530',\n",
       " 'KT&G': '033780',\n",
       " '두산중공업': '034020',\n",
       " 'SBS': '034120',\n",
       " 'LG디스플레이': '034220',\n",
       " '신세계건설': '034300',\n",
       " '한신정': '034310',\n",
       " '인천도시가스': '034590',\n",
       " 'GⅡR': '035000',\n",
       " '백산': '035150',\n",
       " '강원랜드': '035250',\n",
       " 'NHN': '035420',\n",
       " '한국가스공사': '036460',\n",
       " 'S&T홀딩스': '036530',\n",
       " '엔씨소프트': '036570',\n",
       " '대상팜스코': '036580',\n",
       " '대상팜스코우B': '036581',\n",
       " '휘닉스컴': '037270',\n",
       " '미래에셋증권': '037620',\n",
       " '광주신세계': '037710',\n",
       " '상신브레이크': '041650',\n",
       " '현대오토넷': '042100',\n",
       " '대우조선해양': '042660',\n",
       " '두산인프라코어': '042670',\n",
       " '한미반도체': '042700',\n",
       " '주연테크': '044380',\n",
       " 'KSS해운': '044450',\n",
       " '코스맥스': '044820',\n",
       " '온미디어': '045710',\n",
       " 'LG파워콤': '045820',\n",
       " '대우건설': '047040',\n",
       " '대우인터내셔널': '047050',\n",
       " '동원F&B': '049770',\n",
       " '우진세렉스': '049800',\n",
       " '성진지오텍': '051310',\n",
       " '한전KPS': '051600',\n",
       " '진양화학': '051630',\n",
       " 'LG생활건강': '051900',\n",
       " 'LG생활건강우': '051901',\n",
       " 'LG화학': '051910',\n",
       " 'LG화학우': '051911',\n",
       " '우리금융': '053000',\n",
       " '신한지주': '055550',\n",
       " '포스코강판': '058430',\n",
       " '세아홀딩스': '058650',\n",
       " '동아에스텍': '058730',\n",
       " '종근당바이오': '063160',\n",
       " '케이피케미칼': '064420',\n",
       " 'S&T대우': '064960',\n",
       " 'LG전자': '066570',\n",
       " 'LG전자우': '066571',\n",
       " 'STX조선': '067250',\n",
       " '세이브존I&C': '067830',\n",
       " '삼성출판사': '068290',\n",
       " 'LG생명과학': '068870',\n",
       " 'LG생명과학우': '068871',\n",
       " '휴켐스': '069260',\n",
       " '대호에이엘': '069460',\n",
       " '제로원인터랙티브': '069470',\n",
       " '대웅제약': '069620',\n",
       " 'DSR제강': '069730',\n",
       " '현대백화점': '069960',\n",
       " '한국금융지주': '071050',\n",
       " '한국금융지주우': '071051',\n",
       " '한국금융지주2우B': '071052',\n",
       " '하이스틸': '071090',\n",
       " '코아스웰': '071950',\n",
       " '코아스웰1우B': '071951',\n",
       " '유엔젤': '072130',\n",
       " '농심홀딩스': '072710',\n",
       " '금호타이어': '073240',\n",
       " '이엔쓰리': '074610',\n",
       " '새론오토모티브': '075180',\n",
       " 'GBS': '076170',\n",
       " '맥쿼리센트럴': '076850',\n",
       " '유니퀘스트': '077500',\n",
       " 'STX엔진': '077970',\n",
       " '텔코웨어': '078000',\n",
       " '동북아1호': '078420',\n",
       " 'GS': '078930',\n",
       " 'GS우': '078931',\n",
       " '리바트': '079430',\n",
       " '사조해표': '079660',\n",
       " '동북아2호': '080030',\n",
       " '아시아1호': '080180',\n",
       " '동북아6호': '080410',\n",
       " '동북아3호': '080960',\n",
       " '동북아4호': '080970',\n",
       " '동북아5호': '080980',\n",
       " '일진다이아': '081000',\n",
       " '아시아2호': '081190',\n",
       " '아시아3호': '081200',\n",
       " '아시아4호': '081210',\n",
       " '아시아8호': '081930',\n",
       " '아시아9호': '081940',\n",
       " '동북아8호': '082110',\n",
       " '아시아5호': '082240',\n",
       " '아시아6호': '082250',\n",
       " '아시아7호': '082260',\n",
       " '동북아9호': '083120',\n",
       " '동북아10호': '083350',\n",
       " '동북아11호': '083360',\n",
       " '동북아12호': '083370',\n",
       " '동북아13호': '083380',\n",
       " '동북아14호': '083390',\n",
       " 'KPX그린케미칼': '083420',\n",
       " '아시아10호': '083570',\n",
       " '아시아11호': '083580',\n",
       " '아시아12호': '083590',\n",
       " '아시아13호': '083600',\n",
       " '아시아14호': '083610',\n",
       " '아시아15호': '083620',\n",
       " '대한제강': '084010',\n",
       " '골든경매일호': '084160',\n",
       " '동북아15호': '084240',\n",
       " '동양고속': '084670',\n",
       " 'C&우방랜드': '084680',\n",
       " '대상홀딩스': '084690',\n",
       " '대상홀딩스우': '084691',\n",
       " '대상홀딩스2우B': '084692',\n",
       " '베이직하우스': '084870',\n",
       " '엔케이': '085310',\n",
       " '글로비스': '086280',\n",
       " '코크렙7호': '086720',\n",
       " '하나금융지주': '086790',\n",
       " '동북아21호': '088010',\n",
       " '진도에프앤': '088790',\n",
       " '맥쿼리인프라': '088980',\n",
       " '현대EP': '089470',\n",
       " '평화산업': '090080',\n",
       " '노루페인트': '090350',\n",
       " '노루페인트우': '090351',\n",
       " '아비스타': '090370',\n",
       " '아모레퍼시픽': '090430',\n",
       " '아모레퍼시픽우': '090431',\n",
       " '코크렙8호': '090540',\n",
       " '코리아01호': '090970',\n",
       " '코리아02호': '090980',\n",
       " '코리아03호': '090990',\n",
       " '코리아04호': '091000',\n",
       " '세원셀론텍': '091090',\n",
       " '디아이씨': '092200',\n",
       " 'KEC': '092220',\n",
       " 'KPX홀딩스': '092230',\n",
       " '기신정기': '092440',\n",
       " '바다로3호': '092630',\n",
       " '거북선1호': '092970',\n",
       " 'LG패션': '093050',\n",
       " '쉘라인': '093230',\n",
       " '후성': '093370',\n",
       " '코리아05호': '093400',\n",
       " '코리아06호': '093410',\n",
       " '동북아31호': '093730',\n",
       " '한국유전15-1': '093820',\n",
       " '효성ITX': '094280',\n",
       " '맵스베트남1': '094520',\n",
       " '맵스리얼티1': '094800',\n",
       " '지비베트남1': '094950',\n",
       " '웅진씽크빅': '095720',\n",
       " '베트남개발1': '096300',\n",
       " '중외홀딩스': '096760',\n",
       " 'SK에너지': '096770',\n",
       " 'SK에너지우': '096771',\n",
       " '한진중공업': '097230',\n",
       " 'CJ제일제당': '097953',\n",
       " '한국아태특별': '098150',\n",
       " '코리아07호': '099210',\n",
       " '하나니켈1호': '099340',\n",
       " '하나니켈2호': '099350',\n",
       " '비유와상징': '100220',\n",
       " '진양홀딩스': '100250',\n",
       " 'S&TC': '100840',\n",
       " 'SBS홀딩스': '101060',\n",
       " '아티스': '101140',\n",
       " '거북선2호': '101380',\n",
       " '케이알제2호': '101790',\n",
       " '파브코': '101990',\n",
       " '거북선3호': '102000',\n",
       " '동성홀딩스': '102260',\n",
       " '트라이': '102280',\n",
       " '풍산': '103140',\n",
       " '하이트맥주': '103150',\n",
       " '하이트맥주우': '103151',\n",
       " '풀무원': '103160',\n",
       " '일진전기': '103590',\n",
       " '신성ENG': '104110',\n",
       " '신성FA': '104120',\n",
       " '한국철강': '104700',\n",
       " 'KB금융': '105560',\n",
       " '미원에스씨': '107590'}"
      ]
     },
     "execution_count": 42,
     "metadata": {},
     "output_type": "execute_result"
    }
   ],
   "source": [
    "f = open('./python_data_files/stockcode.txt', 'r')\n",
    "d = {}\n",
    "lines = f.readlines()\n",
    "for line in lines:\n",
    "    d[line.split()[1]] = line.split()[0]\n",
    "d"
   ]
  },
  {
   "cell_type": "code",
   "execution_count": 43,
   "id": "d585ce44",
   "metadata": {},
   "outputs": [
    {
     "data": {
      "text/plain": [
       "'005930'"
      ]
     },
     "execution_count": 43,
     "metadata": {},
     "output_type": "execute_result"
    }
   ],
   "source": [
    "d['삼성전자']"
   ]
  },
  {
   "cell_type": "code",
   "execution_count": 44,
   "id": "80f0e16d",
   "metadata": {},
   "outputs": [
    {
     "name": "stdout",
     "output_type": "stream",
     "text": [
      "005930\n"
     ]
    }
   ],
   "source": [
    "f = open('./python_data_files/stockcode.txt', 'r')\n",
    "d = {}\n",
    "lines = f.readlines()\n",
    "for line in lines:\n",
    "    if line.split()[1] == '삼성전자':\n",
    "        print(line.split()[0])\n",
    "        break"
   ]
  },
  {
   "cell_type": "code",
   "execution_count": 47,
   "id": "1a4c6afc",
   "metadata": {
    "collapsed": true
   },
   "outputs": [
    {
     "name": "stdout",
     "output_type": "stream",
     "text": [
      "000720 현대건설\n",
      "\n",
      "000721 현대건설우\n",
      "\n",
      "000860 건설화학\n",
      "\n",
      "001600 서광건설\n",
      "\n",
      "001970 신성건설\n",
      "\n",
      "001971 신성건설우\n",
      "\n",
      "002530 벽산건설\n",
      "\n",
      "002531 벽산건설우\n",
      "\n",
      "003070 코오롱건설\n",
      "\n",
      "005900 동양건설\n",
      "\n",
      "005960 동부건설\n",
      "\n",
      "005961 동부건설우\n",
      "\n",
      "005980 성지건설\n",
      "\n",
      "006360 GS건설\n",
      "\n",
      "006440 한일건설\n",
      "\n",
      "009410 태영건설\n",
      "\n",
      "009411 태영건설우\n",
      "\n",
      "011160 두산건설\n",
      "\n",
      "012090 성원건설\n",
      "\n",
      "012091 성원건설우\n",
      "\n",
      "013360 일성건설\n",
      "\n",
      "013361 일성건설우B\n",
      "\n",
      "013362 일성건설2우B\n",
      "\n",
      "013580 계룡건설\n",
      "\n",
      "014790 한라건설\n",
      "\n",
      "015110 중앙건설\n",
      "\n",
      "034300 신세계건설\n",
      "\n",
      "047040 대우건설\n",
      "\n"
     ]
    }
   ],
   "source": [
    "# 종목명에 '건설'이 포함된 종목명과 코드번호를 출력...\n",
    "\n",
    "f = open('./python_data_files/stockcode.txt', 'r')\n",
    "d = {}\n",
    "lines = f.readlines()\n",
    "for line in lines:\n",
    "    if '건설' in line.split()[1]:\n",
    "        print(line)"
   ]
  },
  {
   "cell_type": "code",
   "execution_count": 53,
   "id": "e92b433c",
   "metadata": {},
   "outputs": [
    {
     "name": "stdout",
     "output_type": "stream",
     "text": [
      "저장할 내용을 입력하세요..hello world\n",
      "hello pythonhello worldhello python\n",
      "hello world\n",
      "hello python\n",
      "hello world\n",
      "\n"
     ]
    }
   ],
   "source": [
    "# 문자열을 입력받은 후 이를 파일에 기록하는 코드를 작성하시오..\n",
    "# 'w' - write (덮어쓰기)\n",
    "# 'r' - read\n",
    "# 'a' - append\n",
    "\n",
    "memo = input('저장할 내용을 입력하세요..')\n",
    "\n",
    "with open('memo.txt', 'a') as f:\n",
    "    f.write(memo + '\\n')\n",
    "    \n",
    "with open('memo.txt', 'r') as f:\n",
    "    text = f.read()\n",
    "    \n",
    "print(text)"
   ]
  },
  {
   "cell_type": "code",
   "execution_count": null,
   "id": "f4f67670",
   "metadata": {},
   "outputs": [],
   "source": []
  }
 ],
 "metadata": {
  "kernelspec": {
   "display_name": "Python 3 (ipykernel)",
   "language": "python",
   "name": "python3"
  },
  "language_info": {
   "codemirror_mode": {
    "name": "ipython",
    "version": 3
   },
   "file_extension": ".py",
   "mimetype": "text/x-python",
   "name": "python",
   "nbconvert_exporter": "python",
   "pygments_lexer": "ipython3",
   "version": "3.9.7"
  }
 },
 "nbformat": 4,
 "nbformat_minor": 5
}
