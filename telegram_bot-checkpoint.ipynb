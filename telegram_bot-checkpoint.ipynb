{
 "cells": [
  {
   "cell_type": "code",
   "execution_count": 1,
   "metadata": {},
   "outputs": [],
   "source": [
    "# pip install telepot \n",
    "# pip install python-telegram-bot"
   ]
  },
  {
   "cell_type": "code",
   "execution_count": 5,
   "metadata": {},
   "outputs": [],
   "source": [
    "import telegram"
   ]
  },
  {
   "cell_type": "code",
   "execution_count": 6,
   "metadata": {},
   "outputs": [],
   "source": [
    "# telegram > botfather > \n",
    "# /newbot > botname: testbot > username : nextdabot\n",
    "# http api : 1082592540:AAHUYSy_yKr9auJaUbyPJfsAvJ5fgsZoiSs"
   ]
  },
  {
   "cell_type": "code",
   "execution_count": 7,
   "metadata": {},
   "outputs": [],
   "source": [
    "bot = telegram.Bot(token = '1082592540:AAHUYSy_yKr9auJaUbyPJfsAvJ5fgsZoiSs')"
   ]
  },
  {
   "cell_type": "code",
   "execution_count": 8,
   "metadata": {},
   "outputs": [],
   "source": [
    "# telegram에서 nextbot 검색 > 선택 > start > 메시지 보내기"
   ]
  },
  {
   "cell_type": "code",
   "execution_count": 10,
   "metadata": {},
   "outputs": [
    {
     "name": "stdout",
     "output_type": "stream",
     "text": [
      "[<telegram.update.Update object at 0x00000280441BABA8>, <telegram.update.Update object at 0x0000028044690710>, <telegram.update.Update object at 0x0000028044690780>, <telegram.update.Update object at 0x0000028044690240>]\n"
     ]
    }
   ],
   "source": [
    "print(bot.getUpdates())"
   ]
  },
  {
   "cell_type": "code",
   "execution_count": 11,
   "metadata": {},
   "outputs": [
    {
     "name": "stdout",
     "output_type": "stream",
     "text": [
      "{'update_id': 361022302, 'message': {'message_id': 1, 'date': 1592508118, 'chat': {'id': 1073672480, 'type': 'private', 'first_name': 'ch', 'last_name': 'lyu'}, 'text': '/start', 'entities': [{'type': 'bot_command', 'offset': 0, 'length': 6}], 'caption_entities': [], 'photo': [], 'new_chat_members': [], 'new_chat_photo': [], 'delete_chat_photo': False, 'group_chat_created': False, 'supergroup_chat_created': False, 'channel_chat_created': False, 'from': {'id': 1073672480, 'first_name': 'ch', 'is_bot': False, 'last_name': 'lyu', 'language_code': 'ko'}}}\n",
      "\n",
      "{'update_id': 361022303, 'message': {'message_id': 2, 'date': 1592508148, 'chat': {'id': 1073672480, 'type': 'private', 'first_name': 'ch', 'last_name': 'lyu'}, 'text': 'hi..', 'entities': [], 'caption_entities': [], 'photo': [], 'new_chat_members': [], 'new_chat_photo': [], 'delete_chat_photo': False, 'group_chat_created': False, 'supergroup_chat_created': False, 'channel_chat_created': False, 'from': {'id': 1073672480, 'first_name': 'ch', 'is_bot': False, 'last_name': 'lyu', 'language_code': 'ko'}}}\n",
      "\n",
      "{'update_id': 361022304, 'message': {'message_id': 3, 'date': 1592508152, 'chat': {'id': 1073672480, 'type': 'private', 'first_name': 'ch', 'last_name': 'lyu'}, 'text': 'hello world', 'entities': [], 'caption_entities': [], 'photo': [], 'new_chat_members': [], 'new_chat_photo': [], 'delete_chat_photo': False, 'group_chat_created': False, 'supergroup_chat_created': False, 'channel_chat_created': False, 'from': {'id': 1073672480, 'first_name': 'ch', 'is_bot': False, 'last_name': 'lyu', 'language_code': 'ko'}}}\n",
      "\n",
      "{'update_id': 361022305, 'message': {'message_id': 4, 'date': 1592508157, 'chat': {'id': 1073672480, 'type': 'private', 'first_name': 'ch', 'last_name': 'lyu'}, 'text': \"I'am bot\", 'entities': [], 'caption_entities': [], 'photo': [], 'new_chat_members': [], 'new_chat_photo': [], 'delete_chat_photo': False, 'group_chat_created': False, 'supergroup_chat_created': False, 'channel_chat_created': False, 'from': {'id': 1073672480, 'first_name': 'ch', 'is_bot': False, 'last_name': 'lyu', 'language_code': 'ko'}}}\n",
      "\n"
     ]
    }
   ],
   "source": [
    "for i in bot.getUpdates():\n",
    "    print(i)\n",
    "    print()"
   ]
  },
  {
   "cell_type": "code",
   "execution_count": 12,
   "metadata": {},
   "outputs": [
    {
     "data": {
      "text/plain": [
       "<telegram.message.Message at 0x2804463b550>"
      ]
     },
     "execution_count": 12,
     "metadata": {},
     "output_type": "execute_result"
    }
   ],
   "source": [
    "# 봇이 나에게 message 보내기.. 나의 id 입력..\n",
    "bot.send_message(chat_id=1073672480, text = '안녕하세요~')"
   ]
  },
  {
   "cell_type": "code",
   "execution_count": 13,
   "metadata": {},
   "outputs": [
    {
     "data": {
      "text/plain": [
       "<telegram.message.Message at 0x28044690278>"
      ]
     },
     "execution_count": 13,
     "metadata": {},
     "output_type": "execute_result"
    }
   ],
   "source": [
    "# 봇이 나에게 message 보내기.. \n",
    "bot.send_message(chat_id=1073672480, text = 'hello world~')"
   ]
  },
  {
   "cell_type": "code",
   "execution_count": 14,
   "metadata": {},
   "outputs": [
    {
     "name": "stdout",
     "output_type": "stream",
     "text": [
      "1073672480\n",
      "\n",
      "1073672480\n",
      "\n",
      "1073672480\n",
      "\n",
      "1073672480\n",
      "\n"
     ]
    }
   ],
   "source": [
    "for i in bot.getUpdates():\n",
    "    print(i.message.chat.id)\n",
    "    print()"
   ]
  },
  {
   "cell_type": "code",
   "execution_count": 15,
   "metadata": {},
   "outputs": [],
   "source": [
    "for i in bot.getUpdates():\n",
    "    bot.send_message(chat_id=i.message.chat.id, text='두 번째 메시지')"
   ]
  },
  {
   "cell_type": "code",
   "execution_count": 17,
   "metadata": {},
   "outputs": [],
   "source": [
    "chat_id_list = []\n",
    "for i in bot.getUpdates():\n",
    "    chat_id = i.message.chat.id\n",
    "    if chat_id not in chat_id_list:\n",
    "        bot.send_message(chat_id=chat_id, text='세 번째 메시지')\n",
    "        chat_id_list.append(chat_id)"
   ]
  },
  {
   "cell_type": "code",
   "execution_count": null,
   "metadata": {},
   "outputs": [],
   "source": []
  }
 ],
 "metadata": {
  "kernelspec": {
   "display_name": "Python 3",
   "language": "python",
   "name": "python3"
  },
  "language_info": {
   "codemirror_mode": {
    "name": "ipython",
    "version": 3
   },
   "file_extension": ".py",
   "mimetype": "text/x-python",
   "name": "python",
   "nbconvert_exporter": "python",
   "pygments_lexer": "ipython3",
   "version": "3.7.3"
  }
 },
 "nbformat": 4,
 "nbformat_minor": 2
}
